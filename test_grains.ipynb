{
 "cells": [
  {
   "cell_type": "markdown",
   "metadata": {},
   "source": [
    "<h1>SegmentEveryGrain -- Hawaii project</h1>\n",
    "\n",
    "Details go here\n",
    "\n",
    "<h3>To-do</h3>\n",
    "\n",
    "- Break interactive elements into segmenteverygrain.interactions\n",
    "- Create tests for interactive elements?\n",
    "- Sort out grain_data, all_grain, new_grain_data, etc\n",
    "- Performance improvements?"
   ]
  },
  {
   "cell_type": "code",
   "execution_count": null,
   "metadata": {},
   "outputs": [],
   "source": [
    "# Setup ---\n",
    "\n",
    "# Imports\n",
    "import cv2\n",
    "import keras.saving\n",
    "import keras.utils\n",
    "import matplotlib.pyplot as plt\n",
    "import numpy as np\n",
    "import segment_anything\n",
    "import segmenteverygrain\n",
    "import segmenteverygrain.interactions as si\n",
    "\n",
    "# import tensorflow as tf\n",
    "# from tensorflow.python.platform.build_info import build_info\n",
    "# for k, v in build_info.items():\n",
    "#     print(f'{k}:\\t{v}')\n",
    "\n",
    "# Plotting\n",
    "%matplotlib widget\n",
    "FIGSIZE = (12, 8)"
   ]
  },
  {
   "cell_type": "code",
   "execution_count": null,
   "metadata": {},
   "outputs": [],
   "source": [
    "# Unet segmentation ---\n",
    "\n",
    "# Load Unet model\n",
    "model = keras.saving.load_model(\"pretrained_model.keras\", custom_objects={'weighted_crossentropy': segmenteverygrain.weighted_crossentropy})\n",
    "\n",
    "# Load image for analysis\n",
    "fname = './DJI_0605010.jpg'\n",
    "image = np.array(keras.utils.load_img(fname))\n",
    "\n",
    "# Generate Unet prompts\n",
    "image_pred = segmenteverygrain.predict_image(image, model, I=256)\n",
    "labels, coords = segmenteverygrain.label_grains(image, image_pred, dbs_max_dist=20.0)\n",
    "\n",
    "# Display Unet prompts for verification\n",
    "fig, ax = plt.subplots(figsize=FIGSIZE)\n",
    "ax.set_aspect('equal')\n",
    "ax.imshow(image_pred)\n",
    "plt.scatter(np.array(coords)[:,0], np.array(coords)[:,1], c='k')\n",
    "plt.xticks([])\n",
    "plt.yticks([])"
   ]
  },
  {
   "cell_type": "code",
   "execution_count": null,
   "metadata": {},
   "outputs": [],
   "source": [
    "# SAM segmentation ---\n",
    "\n",
    "# Close Unet figure\n",
    "plt.close()\n",
    "\n",
    "# Load and apply Segment Anything model\n",
    "sam = segment_anything.sam_model_registry[\"default\"](checkpoint=\"./sam_vit_h_4b8939.pth\")\n",
    "# TODO: Figure out TensorRT to accelerate this w/GPU; currently it's actually slower on CUDA\n",
    "# sam.to(device='cuda')\n",
    "# TODO: Separate this function into smaller chunks (plotting, mask, etc)\n",
    "# TODO: Choose min_area by image size? Do unit conversion from pixels first?\n",
    "all_grains, labels, mask_all, grain_data, fig, ax = segmenteverygrain.sam_segmentation(\n",
    "    sam, image, image_pred, coords, labels, \n",
    "    min_area=400.0, plot_image=False, remove_edge_grains=False, remove_large_objects=False\n",
    ")\n",
    "\n",
    "# Set up predictor for interaction plot\n",
    "# TODO: this already happens in sam_segmentation!\n",
    "predictor = segment_anything.SamPredictor(sam)\n",
    "predictor.set_image(image)"
   ]
  },
  {
   "cell_type": "code",
   "execution_count": null,
   "metadata": {},
   "outputs": [],
   "source": [
    "# Manual editing ---\n",
    "\n",
    "# Create and display interactive grain plot\n",
    "grains = [si.Grain(p.exterior.xy, row[1]) for p, row in zip(all_grains, grain_data.iterrows())]\n",
    "grain_plot = si.GrainPlot(grains, image=image, predictor=predictor, figsize=FIGSIZE)\n",
    "grain_plot.activate()"
   ]
  },
  {
   "cell_type": "code",
   "execution_count": null,
   "metadata": {},
   "outputs": [],
   "source": [
    "# Process manual edits ---\n",
    "\n",
    "# Disable further interactions\n",
    "grain_plot.deactivate()\n",
    "\n",
    "# Get grain data as pd.DataFrame\n",
    "new_grain_data = grain_plot.get_data()\n",
    "# print(new_grain_data.head())\n",
    "\n",
    "# TODO: Convert from pixels to real units\n",
    "n_of_units = 1000\n",
    "units_per_pixel = n_of_units/1552.77 # length of scale bar in pixels\n",
    "for col in ['major_axis_length', 'minor_axis_length', 'perimeter', 'area']:\n",
    "    new_grain_data[col] *= units_per_pixel\n",
    "\n",
    "# Save csv, show histogram\n",
    "new_grain_data.to_csv(fname[:-4] + '.csv')\n",
    "fig, ax = segmenteverygrain.plot_histogram_of_axis_lengths(new_grain_data['major_axis_length']/1000, new_grain_data['minor_axis_length']/1000)\n",
    "\n",
    "# Save mask with original image for training\n",
    "dirname = './images/'\n",
    "outname = dirname + fname.split('/')[-1].split('.')[-2]\n",
    "rasterized_image, mask = grain_plot.get_mask()\n",
    "# TODO: Remove opencv dependency?\n",
    "cv2.imwrite(outname + '_mask2.png', mask)\n",
    "cv2.imwrite(outname + '_verify2.png', mask*127)\n",
    "cv2.imwrite(outname + '_image2.png', cv2.cvtColor(image, cv2.COLOR_BGR2RGB))"
   ]
  },
  {
   "cell_type": "markdown",
   "metadata": {},
   "source": [
    "<h2>Results</h2>\n",
    "\n",
    "At the end of this script, you should have the following where \"fname\" is the name input image (without file extension):\n",
    "\n",
    "- Cell output in this notebook (can be saved manually):\n",
    "    - A plot of Unet prompts generated for Segment Anything to analyze. If this looks messy, consider fine-tuning the model.\n",
    "    - A colorized plot of detected grains, after manual edits.\n",
    "    - A histogram of grain axis lengths for quick verification.\n",
    "- ./:\n",
    "    - fname.csv: A list of identified grains and associated data (after manual edits)\n",
    "- ./Images/:\n",
    "    - fname_image.png: A copy of the original input image\n",
    "    - fname_mask.png: A map of grains, boundaries, and background for fine-tuning the Unet model\n",
    "    - fname_verify.png: A human-readable version of fname_mask for easy verification\n"
   ]
  }
 ],
 "metadata": {
  "kernelspec": {
   "display_name": "venv4",
   "language": "python",
   "name": "python3"
  },
  "language_info": {
   "codemirror_mode": {
    "name": "ipython",
    "version": 3
   },
   "file_extension": ".py",
   "mimetype": "text/x-python",
   "name": "python",
   "nbconvert_exporter": "python",
   "pygments_lexer": "ipython3",
   "version": "3.9.20"
  }
 },
 "nbformat": 4,
 "nbformat_minor": 2
}
