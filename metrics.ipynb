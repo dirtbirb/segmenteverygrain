{
 "cells": [
  {
   "cell_type": "markdown",
   "id": "314982c7",
   "metadata": {},
   "source": [
    "### Calculate metrics from a previously-generated summary csv"
   ]
  },
  {
   "cell_type": "code",
   "execution_count": 1,
   "id": "3b4ee4c1",
   "metadata": {},
   "outputs": [
    {
     "name": "stderr",
     "output_type": "stream",
     "text": [
      "2025-06-01 23:02:45.915703: E external/local_xla/xla/stream_executor/cuda/cuda_fft.cc:477] Unable to register cuFFT factory: Attempting to register factory for plugin cuFFT when one has already been registered\n",
      "WARNING: All log messages before absl::InitializeLog() is called are written to STDERR\n",
      "E0000 00:00:1748844165.927291    6196 cuda_dnn.cc:8310] Unable to register cuDNN factory: Attempting to register factory for plugin cuDNN when one has already been registered\n",
      "E0000 00:00:1748844165.930714    6196 cuda_blas.cc:1418] Unable to register cuBLAS factory: Attempting to register factory for plugin cuBLAS when one has already been registered\n",
      "2025-06-01 23:02:45.942367: I tensorflow/core/platform/cpu_feature_guard.cc:210] This TensorFlow binary is optimized to use available CPU instructions in performance-critical operations.\n",
      "To enable the following instructions: AVX2 FMA, in other operations, rebuild TensorFlow with the appropriate compiler flags.\n"
     ]
    }
   ],
   "source": [
    "# Imports\n",
    "import pandas as pd\n",
    "import segmenteverygrain.interactions as si"
   ]
  },
  {
   "cell_type": "code",
   "execution_count": 2,
   "id": "2eb3ae6b",
   "metadata": {},
   "outputs": [],
   "source": [
    "# Load previously-generated summary csv\n",
    "summary = pd.read_csv('examples/auto/torrey_pines_summary.csv')"
   ]
  },
  {
   "cell_type": "markdown",
   "id": "31a5eea8",
   "metadata": {},
   "source": [
    "See below for some example calculations. \n",
    "\n",
    "Units (m²) assume that the input summary csv is in meters, meaning that a scale value (`px_to_m`) was specified when creating or saving the summary csv."
   ]
  },
  {
   "cell_type": "code",
   "execution_count": null,
   "id": "c7625831",
   "metadata": {},
   "outputs": [
    {
     "name": "stdout",
     "output_type": "stream",
     "text": [
      "\n",
      "Processed 408 grains (0 duplicates).\n",
      "\n",
      "Smallest grain:\n",
      " Unnamed: 0            51.000000\n",
      "area                   0.000028\n",
      "centroid-0           502.656743\n",
      "centroid-1           173.976590\n",
      "perimeter              0.025250\n",
      "orientation           -0.406381\n",
      "major_axis_length      0.006996\n",
      "minor_axis_length      0.006653\n",
      "max_intensity-0       27.000000\n",
      "min_intensity-0        0.000000\n",
      "mean_intensity-0       5.062112\n",
      "max_intensity-1       39.000000\n",
      "min_intensity-1        0.000000\n",
      "mean_intensity-1       9.546584\n",
      "max_intensity-2       47.000000\n",
      "min_intensity-2        0.000000\n",
      "mean_intensity-2      12.888199\n",
      "Name: 51, dtype: float64\n",
      "\n",
      "Quantiles (all):\n",
      "       Unnamed: 0      area  centroid-0   centroid-1  perimeter  orientation  \\\n",
      "0.05       20.35  0.000041   75.413856    73.014066   0.028354    -1.449519   \n",
      "0.16       65.12  0.000062  151.855162   178.300033   0.033951    -1.185646   \n",
      "0.50      203.50  0.000129  460.607169   522.161705   0.049067    -0.182073   \n",
      "0.84      341.88  0.000365  751.256008  1001.336459   0.077502     1.109510   \n",
      "\n",
      "      major_axis_length  minor_axis_length  max_intensity-0  min_intensity-0  \\\n",
      "0.05           0.009906           0.005368            106.0              0.0   \n",
      "0.16           0.011938           0.006723            142.0              0.0   \n",
      "0.50           0.017299           0.010494            221.0              0.0   \n",
      "0.84           0.026749           0.017961            255.0              0.0   \n",
      "\n",
      "      mean_intensity-0  max_intensity-1  min_intensity-1  mean_intensity-1  \\\n",
      "0.05         19.478958           110.70              0.0         26.380495   \n",
      "0.16         38.488851           151.12              0.0         47.030956   \n",
      "0.50         84.330255           226.50              0.0         90.393395   \n",
      "0.84        147.704550           255.00              0.0        148.414927   \n",
      "\n",
      "      max_intensity-2  min_intensity-2  mean_intensity-2  \n",
      "0.05           113.05              0.0         33.264284  \n",
      "0.16           161.12              0.0         51.838231  \n",
      "0.50           228.50              0.0         97.827741  \n",
      "0.84           255.00              0.0        145.922040  \n",
      "\n",
      "Quantiles (maj axis < 32 mm)\n",
      "       Unnamed: 0      area  centroid-0  centroid-1  perimeter  orientation  \\\n",
      "0.16       60.16  0.000058  149.732410  176.500032   0.033426    -1.181796   \n",
      "0.50      213.00  0.000118  454.957464  496.977931   0.047163    -0.177302   \n",
      "0.84      343.84  0.000288  743.805170  981.398241   0.067712     1.114735   \n",
      "\n",
      "      major_axis_length  minor_axis_length  max_intensity-0  min_intensity-0  \\\n",
      "0.16           0.011578           0.006638           139.16              0.0   \n",
      "0.50           0.016579           0.009927           213.00              0.0   \n",
      "0.84           0.024129           0.016425           255.00              0.0   \n",
      "\n",
      "      mean_intensity-0  max_intensity-1  min_intensity-1  mean_intensity-1  \\\n",
      "0.16         37.799253           146.16              0.0         46.152978   \n",
      "0.50         80.628829           220.00              0.0         87.030769   \n",
      "0.84        141.595139           255.00              0.0        143.885601   \n",
      "\n",
      "      max_intensity-2  min_intensity-2  mean_intensity-2  \n",
      "0.16            160.0              0.0         51.014800  \n",
      "0.50            223.0              0.0         91.418022  \n",
      "0.84            254.0              0.0        138.853105  \n",
      "\n",
      "Total area of all grains: 0.08283279612529572 m²\n",
      "Area of all grains with major axis > 24 mm: 0.0452596717100413\n"
     ]
    }
   ],
   "source": [
    "# Grain count\n",
    "print(f'\\nProcessed {len(summary)} grains ({summary.duplicated().sum()} duplicates).')\n",
    "\n",
    "# Smallest grain (by area)\n",
    "print(\"\\nSmallest grain:\\n\", summary.loc[summary.area.idxmin()])\n",
    "\n",
    "# Quantiles\n",
    "print(\"\\nQuantiles (all):\\n\", summary.quantile([0.05, 0.16, 0.5, 0.84]))\n",
    "print(\"\\nQuantiles (maj axis < 32 mm)\\n\", \n",
    "      summary[summary.major_axis_length < 0.032].quantile([0.16, 0.5, 0.84]))\n",
    "\n",
    "# Total grain area\n",
    "print(f'\\nTotal area of all grains: {summary.area.sum()} m²')\n",
    "area_sum = summary.area[summary.major_axis_length > 0.024].sum()\n",
    "print(f'Area of all grains with major axis > 24 mm: {area_sum} m²')"
   ]
  }
 ],
 "metadata": {
  "kernelspec": {
   "display_name": "segmenteverygrain",
   "language": "python",
   "name": "python3"
  },
  "language_info": {
   "codemirror_mode": {
    "name": "ipython",
    "version": 3
   },
   "file_extension": ".py",
   "mimetype": "text/x-python",
   "name": "python",
   "nbconvert_exporter": "python",
   "pygments_lexer": "ipython3",
   "version": "3.9.20"
  }
 },
 "nbformat": 4,
 "nbformat_minor": 5
}
