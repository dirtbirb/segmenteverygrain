{
 "cells": [
  {
   "cell_type": "markdown",
   "id": "95a8f02b",
   "metadata": {
    "tags": []
   },
   "source": [
    "## Import packages"
   ]
  },
  {
   "cell_type": "markdown",
   "id": "360fd114-4a50-4a7d-8fa2-357867cbd601",
   "metadata": {},
   "source": [
    "Note that `rasterio` and `geopandas` need to be installed in the current Python environment for this notebook to work."
   ]
  },
  {
   "cell_type": "code",
   "execution_count": 1,
   "id": "f2ebc518",
   "metadata": {
    "execution": {
     "iopub.execute_input": "2025-01-23T16:48:45.147882Z",
     "iopub.status.busy": "2025-01-23T16:48:45.147458Z",
     "iopub.status.idle": "2025-01-23T16:48:45.161537Z",
     "shell.execute_reply": "2025-01-23T16:48:45.160812Z",
     "shell.execute_reply.started": "2025-01-23T16:48:45.147839Z"
    }
   },
   "outputs": [],
   "source": [
    "import cv2\n",
    "from keras.utils import load_img\n",
    "from keras.saving import load_model\n",
    "import matplotlib.pyplot as plt\n",
    "import numpy as np\n",
    "import pandas as pd\n",
    "from segment_anything import sam_model_registry, SamPredictor\n",
    "from skimage.measure import regionprops, regionprops_table\n",
    "from tqdm import trange, tqdm\n",
    "\n",
    "import segmenteverygrain as seg\n",
    "\n",
    "%matplotlib qt"
   ]
  },
  {
   "cell_type": "markdown",
   "id": "f474ac20",
   "metadata": {
    "tags": []
   },
   "source": [
    "## Load models"
   ]
  },
  {
   "cell_type": "code",
   "execution_count": 2,
   "id": "fe1bd2bc",
   "metadata": {
    "execution": {
     "iopub.execute_input": "2025-01-23T16:48:49.324801Z",
     "iopub.status.busy": "2025-01-23T16:48:49.324616Z",
     "iopub.status.idle": "2025-01-23T16:48:54.653032Z",
     "shell.execute_reply": "2025-01-23T16:48:54.652665Z",
     "shell.execute_reply.started": "2025-01-23T16:48:49.324786Z"
    }
   },
   "outputs": [
    {
     "name": "stderr",
     "output_type": "stream",
     "text": [
      "2025-04-28 13:47:34.938869: I metal_plugin/src/device/metal_device.cc:1154] Metal device set to: Apple M2 Max\n",
      "2025-04-28 13:47:34.938895: I metal_plugin/src/device/metal_device.cc:296] systemMemory: 96.00 GB\n",
      "2025-04-28 13:47:34.938899: I metal_plugin/src/device/metal_device.cc:313] maxCacheSize: 36.00 GB\n",
      "2025-04-28 13:47:34.938921: I tensorflow/core/common_runtime/pluggable_device/pluggable_device_factory.cc:305] Could not identify NUMA node of platform GPU ID 0, defaulting to 0. Your kernel may not have been built with NUMA support.\n",
      "2025-04-28 13:47:34.938937: I tensorflow/core/common_runtime/pluggable_device/pluggable_device_factory.cc:271] Created TensorFlow device (/job:localhost/replica:0/task:0/device:GPU:0 with 0 MB memory) -> physical PluggableDevice (device: 0, name: METAL, pci bus id: <undefined>)\n"
     ]
    }
   ],
   "source": [
    "# UNET model\n",
    "unet = load_model(\n",
    "    \"./models/seg_model.keras\",\n",
    "    custom_objects={\"weighted_crossentropy\": seg.weighted_crossentropy},\n",
    ")\n",
    "\n",
    "# SAM checkpoints. Download from:\n",
    "# https://dl.fbaipublicfiles.com/segment_anything/sam_vit_h_4b8939.pth\n",
    "sam = sam_model_registry[\"default\"](checkpoint=\"./models/sam_vit_h_4b8939.pth\")"
   ]
  },
  {
   "cell_type": "markdown",
   "id": "a3c1dfc6",
   "metadata": {
    "tags": []
   },
   "source": [
    "## Run segmentation\n",
    "\n",
    "Grains are supposed to be well defined in the image; e.g., if a grain consists of only a few pixels, it is unlikely to be detected.\n",
    "\n",
    "The segmentation can take a few minutes even for medium-sized images, so do not start with large images (downsample them if necessary). Images with ~2000 pixels along their largest dimension are a good start."
   ]
  },
  {
   "cell_type": "code",
   "execution_count": 4,
   "id": "94bf3f94",
   "metadata": {
    "execution": {
     "iopub.execute_input": "2025-01-23T16:49:14.578061Z",
     "iopub.status.busy": "2025-01-23T16:49:14.577355Z",
     "iopub.status.idle": "2025-01-23T16:50:34.430289Z",
     "shell.execute_reply": "2025-01-23T16:50:34.429925Z",
     "shell.execute_reply.started": "2025-01-23T16:49:14.577999Z"
    }
   },
   "outputs": [
    {
     "name": "stdout",
     "output_type": "stream",
     "text": [
      "segmenting image tiles...\n"
     ]
    },
    {
     "name": "stderr",
     "output_type": "stream",
     "text": [
      "  0%|          | 0/6 [00:00<?, ?it/s]2025-04-28 13:50:52.832881: I tensorflow/core/grappler/optimizers/custom_graph_optimizer_registry.cc:117] Plugin optimizer for device_type GPU is enabled.\n",
      "100%|██████████| 6/6 [00:02<00:00,  2.87it/s]\n",
      "100%|██████████| 5/5 [00:01<00:00,  4.30it/s]\n"
     ]
    },
    {
     "name": "stdout",
     "output_type": "stream",
     "text": [
      "creating masks using SAM...\n"
     ]
    },
    {
     "name": "stderr",
     "output_type": "stream",
     "text": [
      "100%|██████████| 1301/1301 [00:51<00:00, 25.35it/s]\n"
     ]
    },
    {
     "name": "stdout",
     "output_type": "stream",
     "text": [
      "finding overlapping polygons...\n"
     ]
    },
    {
     "name": "stderr",
     "output_type": "stream",
     "text": [
      "1293it [00:03, 332.53it/s]\n"
     ]
    },
    {
     "name": "stdout",
     "output_type": "stream",
     "text": [
      "finding best polygons...\n"
     ]
    },
    {
     "name": "stderr",
     "output_type": "stream",
     "text": [
      "100%|██████████| 393/393 [00:08<00:00, 46.36it/s]\n"
     ]
    },
    {
     "name": "stdout",
     "output_type": "stream",
     "text": [
      "creating labeled image...\n"
     ]
    },
    {
     "name": "stderr",
     "output_type": "stream",
     "text": [
      "100%|██████████| 428/428 [00:01<00:00, 360.95it/s]\n"
     ]
    }
   ],
   "source": [
    "fname = \"./examples/RI_T01_Grid_65/RI_T01_Grid_65.tif\"\n",
    "image = np.array(load_img(fname))\n",
    "image_pred = seg.predict_image(image, unet, I=256)\n",
    "\n",
    "# decreasing the 'dbs_max_dist' parameter results in more SAM prompts\n",
    "# (and longer processing times):\n",
    "labels, coords = seg.label_grains(image, image_pred, dbs_max_dist=10.0)\n",
    "\n",
    "# SAM segmentation, using the point prompts from the Unet:\n",
    "all_grains, labels, mask_all, grain_data, fig, ax = seg.sam_segmentation(\n",
    "    sam,\n",
    "    image,\n",
    "    image_pred,\n",
    "    coords,\n",
    "    labels,\n",
    "    min_area=50.0,\n",
    "    plot_image=True,\n",
    "    remove_edge_grains=False,\n",
    "    remove_large_objects=False,\n",
    ")"
   ]
  },
  {
   "cell_type": "markdown",
   "id": "968737c4",
   "metadata": {
    "tags": []
   },
   "source": [
    "## Delete or merge grains in segmentation result\n",
    "* click on the grain that you want to remove and press the 'x' key\n",
    "* click on two grains that you want to merge and press the 'm' key (they have to be the last two grains you clicked on)\n",
    "* press the 'g' key to hide the grain masks (so that you can see the original image better); press the 'g' key again to show the grain masks"
   ]
  },
  {
   "cell_type": "code",
   "execution_count": 5,
   "id": "e1761761",
   "metadata": {
    "execution": {
     "iopub.execute_input": "2025-01-23T16:51:01.655565Z",
     "iopub.status.busy": "2025-01-23T16:51:01.654886Z",
     "iopub.status.idle": "2025-01-23T16:51:01.661005Z",
     "shell.execute_reply": "2025-01-23T16:51:01.660373Z",
     "shell.execute_reply.started": "2025-01-23T16:51:01.655529Z"
    }
   },
   "outputs": [],
   "source": [
    "grain_inds = []\n",
    "cid1 = fig.canvas.mpl_connect(\n",
    "    \"button_press_event\",\n",
    "    lambda event: seg.onclick2(event, all_grains, grain_inds, ax=ax),\n",
    ")\n",
    "cid2 = fig.canvas.mpl_connect(\n",
    "    \"key_press_event\",\n",
    "    lambda event: seg.onpress2(event, all_grains, grain_inds, fig=fig, ax=ax),\n",
    ")"
   ]
  },
  {
   "cell_type": "markdown",
   "id": "5d08448d",
   "metadata": {},
   "source": [
    "Run this cell if you do not want to delete / merge existing grains anymore; it is a good idea to do this before moving on to the next step."
   ]
  },
  {
   "cell_type": "code",
   "execution_count": 6,
   "id": "8b6987ae",
   "metadata": {
    "execution": {
     "iopub.execute_input": "2025-01-23T16:51:14.942551Z",
     "iopub.status.busy": "2025-01-23T16:51:14.941847Z",
     "iopub.status.idle": "2025-01-23T16:51:14.949727Z",
     "shell.execute_reply": "2025-01-23T16:51:14.948332Z",
     "shell.execute_reply.started": "2025-01-23T16:51:14.942490Z"
    }
   },
   "outputs": [],
   "source": [
    "fig.canvas.mpl_disconnect(cid1)\n",
    "fig.canvas.mpl_disconnect(cid2)"
   ]
  },
  {
   "cell_type": "markdown",
   "id": "b1ef7d75",
   "metadata": {},
   "source": [
    "Use this function to update the 'all_grains' list after deleting and merging grains:"
   ]
  },
  {
   "cell_type": "code",
   "execution_count": 7,
   "id": "9f7b8082",
   "metadata": {
    "execution": {
     "iopub.execute_input": "2025-01-23T16:51:22.301149Z",
     "iopub.status.busy": "2025-01-23T16:51:22.300632Z",
     "iopub.status.idle": "2025-01-23T16:51:22.954213Z",
     "shell.execute_reply": "2025-01-23T16:51:22.953877Z",
     "shell.execute_reply.started": "2025-01-23T16:51:22.301115Z"
    }
   },
   "outputs": [
    {
     "name": "stderr",
     "output_type": "stream",
     "text": [
      "100%|██████████| 426/426 [00:00<00:00, 2234.33it/s]\n",
      "426it [00:00, 3445.41it/s]\n"
     ]
    }
   ],
   "source": [
    "all_grains, labels, mask_all = seg.get_grains_from_patches(ax, image)"
   ]
  },
  {
   "cell_type": "markdown",
   "id": "36ca344c",
   "metadata": {},
   "source": [
    "Plot the updated set of grains:"
   ]
  },
  {
   "cell_type": "code",
   "execution_count": 8,
   "id": "7e0f7f02",
   "metadata": {
    "execution": {
     "iopub.execute_input": "2025-01-23T16:51:25.371887Z",
     "iopub.status.busy": "2025-01-23T16:51:25.371693Z",
     "iopub.status.idle": "2025-01-23T16:51:26.940839Z",
     "shell.execute_reply": "2025-01-23T16:51:26.940547Z",
     "shell.execute_reply.started": "2025-01-23T16:51:25.371872Z"
    }
   },
   "outputs": [
    {
     "name": "stderr",
     "output_type": "stream",
     "text": [
      "100%|██████████| 426/426 [00:01<00:00, 371.36it/s]\n"
     ]
    }
   ],
   "source": [
    "fig, ax = plt.subplots(figsize=(15, 10))\n",
    "ax.imshow(image)\n",
    "plt.xticks([])\n",
    "plt.yticks([])\n",
    "seg.plot_image_w_colorful_grains(image, all_grains, ax, cmap=\"Paired\")\n",
    "seg.plot_grain_axes_and_centroids(all_grains, labels, ax, linewidth=1, markersize=10)\n",
    "plt.xlim([0, np.shape(image)[1]])\n",
    "plt.ylim([np.shape(image)[0], 0]);"
   ]
  },
  {
   "cell_type": "markdown",
   "id": "ab7201a5",
   "metadata": {
    "tags": []
   },
   "source": [
    "## Add new grains using the Segment Anything Model\n",
    "\n",
    "* click on unsegmented grain that you want to add\n",
    "* press the 'x' key if you want to delete the last grain you added\n",
    "* press the 'm' key if you want to merge the last two grains that you added\n",
    "* right click outside the grain (but inside the most recent mask) if you want to restrict the grain to a smaller mask - this adds a background prompt"
   ]
  },
  {
   "cell_type": "code",
   "execution_count": 9,
   "id": "04b1a138",
   "metadata": {
    "execution": {
     "iopub.execute_input": "2025-01-23T16:51:34.790371Z",
     "iopub.status.busy": "2025-01-23T16:51:34.789617Z",
     "iopub.status.idle": "2025-01-23T16:51:41.797522Z",
     "shell.execute_reply": "2025-01-23T16:51:41.797120Z",
     "shell.execute_reply.started": "2025-01-23T16:51:34.790311Z"
    }
   },
   "outputs": [],
   "source": [
    "predictor = SamPredictor(sam)\n",
    "predictor.set_image(image)  # this can take a while\n",
    "coords = []\n",
    "cid3 = fig.canvas.mpl_connect(\n",
    "    \"button_press_event\", lambda event: seg.onclick(event, ax, coords, image, predictor)\n",
    ")\n",
    "cid4 = fig.canvas.mpl_connect(\n",
    "    \"key_press_event\", lambda event: seg.onpress(event, ax, fig)\n",
    ")"
   ]
  },
  {
   "cell_type": "code",
   "execution_count": 10,
   "id": "02386a92",
   "metadata": {
    "execution": {
     "iopub.execute_input": "2025-01-23T16:52:40.907440Z",
     "iopub.status.busy": "2025-01-23T16:52:40.906663Z",
     "iopub.status.idle": "2025-01-23T16:52:40.912336Z",
     "shell.execute_reply": "2025-01-23T16:52:40.911543Z",
     "shell.execute_reply.started": "2025-01-23T16:52:40.907374Z"
    }
   },
   "outputs": [],
   "source": [
    "fig.canvas.mpl_disconnect(cid3)\n",
    "fig.canvas.mpl_disconnect(cid4)"
   ]
  },
  {
   "cell_type": "markdown",
   "id": "6ae4b89a",
   "metadata": {},
   "source": [
    "After you are done with the deletion / addition of grain masks, run this cell to generate an updated set of grains:"
   ]
  },
  {
   "cell_type": "code",
   "execution_count": 11,
   "id": "4355b526",
   "metadata": {
    "execution": {
     "iopub.execute_input": "2025-01-23T16:52:42.186915Z",
     "iopub.status.busy": "2025-01-23T16:52:42.186388Z",
     "iopub.status.idle": "2025-01-23T16:52:42.870858Z",
     "shell.execute_reply": "2025-01-23T16:52:42.870531Z",
     "shell.execute_reply.started": "2025-01-23T16:52:42.186879Z"
    }
   },
   "outputs": [
    {
     "name": "stderr",
     "output_type": "stream",
     "text": [
      "  0%|          | 0/429 [00:00<?, ?it/s]"
     ]
    },
    {
     "name": "stderr",
     "output_type": "stream",
     "text": [
      "100%|██████████| 429/429 [00:00<00:00, 2207.81it/s]\n",
      "429it [00:00, 3357.38it/s]\n"
     ]
    }
   ],
   "source": [
    "all_grains, labels, mask_all = seg.get_grains_from_patches(ax, image)"
   ]
  },
  {
   "cell_type": "markdown",
   "id": "039415c6",
   "metadata": {
    "tags": []
   },
   "source": [
    "## Save mask and image to PNG files"
   ]
  },
  {
   "cell_type": "code",
   "execution_count": null,
   "id": "c4962ba6",
   "metadata": {},
   "outputs": [
    {
     "data": {
      "text/plain": [
       "True"
      ]
     },
     "execution_count": 486,
     "metadata": {},
     "output_type": "execute_result"
    }
   ],
   "source": [
    "dirname = \"./examples/RI_T01_Grid_65/\"\n",
    "# write grayscale mask to PNG file\n",
    "cv2.imwrite(dirname + fname.split(\"/\")[-1][:-4] + \"_mask.png\", mask_all)\n",
    "# Save the image as a PNG file\n",
    "cv2.imwrite(\n",
    "    dirname + fname.split(\"/\")[-1][:-4] + \"_image.png\",\n",
    "    cv2.cvtColor(image, cv2.COLOR_BGR2RGB),\n",
    ")"
   ]
  },
  {
   "cell_type": "markdown",
   "id": "24f154fb",
   "metadata": {
    "tags": []
   },
   "source": [
    "## Convert polygon row, col coordinates to projected coordinates and save them to shapefile"
   ]
  },
  {
   "cell_type": "code",
   "execution_count": 12,
   "id": "16c934cc",
   "metadata": {
    "execution": {
     "iopub.execute_input": "2025-01-23T16:56:22.391177Z",
     "iopub.status.busy": "2025-01-23T16:56:22.390643Z",
     "iopub.status.idle": "2025-01-23T16:56:22.408827Z",
     "shell.execute_reply": "2025-01-23T16:56:22.408184Z",
     "shell.execute_reply.started": "2025-01-23T16:56:22.391148Z"
    }
   },
   "outputs": [],
   "source": [
    "import rasterio\n",
    "\n",
    "dataset = rasterio.open(fname)"
   ]
  },
  {
   "cell_type": "code",
   "execution_count": 13,
   "id": "26b2fc5b",
   "metadata": {
    "execution": {
     "iopub.execute_input": "2025-01-23T16:56:32.306146Z",
     "iopub.status.busy": "2025-01-23T16:56:32.305635Z",
     "iopub.status.idle": "2025-01-23T16:56:32.390716Z",
     "shell.execute_reply": "2025-01-23T16:56:32.390375Z",
     "shell.execute_reply.started": "2025-01-23T16:56:32.306113Z"
    }
   },
   "outputs": [],
   "source": [
    "# convert polygon coordinates from row, col to UTM\n",
    "from shapely.geometry import Polygon\n",
    "\n",
    "projected_polys = []\n",
    "for grain in all_grains:\n",
    "    x, y = rasterio.transform.xy(\n",
    "        dataset.transform, grain.exterior.xy[1], grain.exterior.xy[0]\n",
    "    )\n",
    "    poly = Polygon(np.vstack((x, y)).T)\n",
    "    projected_polys.append(poly)"
   ]
  },
  {
   "cell_type": "code",
   "execution_count": 15,
   "id": "13746f7b",
   "metadata": {
    "execution": {
     "iopub.execute_input": "2025-01-23T16:56:34.084634Z",
     "iopub.status.busy": "2025-01-23T16:56:34.084209Z",
     "iopub.status.idle": "2025-01-23T16:56:34.097444Z",
     "shell.execute_reply": "2025-01-23T16:56:34.096770Z",
     "shell.execute_reply.started": "2025-01-23T16:56:34.084606Z"
    }
   },
   "outputs": [
    {
     "data": {
      "text/html": [
       "<div>\n",
       "<style scoped>\n",
       "    .dataframe tbody tr th:only-of-type {\n",
       "        vertical-align: middle;\n",
       "    }\n",
       "\n",
       "    .dataframe tbody tr th {\n",
       "        vertical-align: top;\n",
       "    }\n",
       "\n",
       "    .dataframe thead th {\n",
       "        text-align: right;\n",
       "    }\n",
       "</style>\n",
       "<table border=\"1\" class=\"dataframe\">\n",
       "  <thead>\n",
       "    <tr style=\"text-align: right;\">\n",
       "      <th></th>\n",
       "      <th>geometry</th>\n",
       "    </tr>\n",
       "  </thead>\n",
       "  <tbody>\n",
       "    <tr>\n",
       "      <th>0</th>\n",
       "      <td>POLYGON ((339043.943 4686358.495, 339043.941 4...</td>\n",
       "    </tr>\n",
       "    <tr>\n",
       "      <th>1</th>\n",
       "      <td>POLYGON ((339043.824 4686358.479, 339043.822 4...</td>\n",
       "    </tr>\n",
       "    <tr>\n",
       "      <th>2</th>\n",
       "      <td>POLYGON ((339043.228 4686358.364, 339043.226 4...</td>\n",
       "    </tr>\n",
       "    <tr>\n",
       "      <th>3</th>\n",
       "      <td>POLYGON ((339043.768 4686358.191, 339043.767 4...</td>\n",
       "    </tr>\n",
       "    <tr>\n",
       "      <th>4</th>\n",
       "      <td>POLYGON ((339043.036 4686357.764, 339043.034 4...</td>\n",
       "    </tr>\n",
       "  </tbody>\n",
       "</table>\n",
       "</div>"
      ],
      "text/plain": [
       "                                            geometry\n",
       "0  POLYGON ((339043.943 4686358.495, 339043.941 4...\n",
       "1  POLYGON ((339043.824 4686358.479, 339043.822 4...\n",
       "2  POLYGON ((339043.228 4686358.364, 339043.226 4...\n",
       "3  POLYGON ((339043.768 4686358.191, 339043.767 4...\n",
       "4  POLYGON ((339043.036 4686357.764, 339043.034 4..."
      ]
     },
     "execution_count": 15,
     "metadata": {},
     "output_type": "execute_result"
    }
   ],
   "source": [
    "# create geopandas dataframe\n",
    "import geopandas\n",
    "\n",
    "gdf = geopandas.GeoDataFrame(projected_polys, columns=[\"geometry\"])\n",
    "gdf.head()"
   ]
  },
  {
   "cell_type": "code",
   "execution_count": 16,
   "id": "548b71c0",
   "metadata": {
    "execution": {
     "iopub.execute_input": "2025-01-23T16:56:36.109494Z",
     "iopub.status.busy": "2025-01-23T16:56:36.108732Z",
     "iopub.status.idle": "2025-01-23T16:56:36.178696Z",
     "shell.execute_reply": "2025-01-23T16:56:36.178358Z",
     "shell.execute_reply.started": "2025-01-23T16:56:36.109417Z"
    }
   },
   "outputs": [
    {
     "data": {
      "text/html": [
       "<div>\n",
       "<style scoped>\n",
       "    .dataframe tbody tr th:only-of-type {\n",
       "        vertical-align: middle;\n",
       "    }\n",
       "\n",
       "    .dataframe tbody tr th {\n",
       "        vertical-align: top;\n",
       "    }\n",
       "\n",
       "    .dataframe thead th {\n",
       "        text-align: right;\n",
       "    }\n",
       "</style>\n",
       "<table border=\"1\" class=\"dataframe\">\n",
       "  <thead>\n",
       "    <tr style=\"text-align: right;\">\n",
       "      <th></th>\n",
       "      <th>label</th>\n",
       "      <th>area</th>\n",
       "      <th>centroid-0</th>\n",
       "      <th>centroid-1</th>\n",
       "      <th>major_axis_length</th>\n",
       "      <th>minor_axis_length</th>\n",
       "    </tr>\n",
       "  </thead>\n",
       "  <tbody>\n",
       "    <tr>\n",
       "      <th>0</th>\n",
       "      <td>1</td>\n",
       "      <td>683.0</td>\n",
       "      <td>182.021962</td>\n",
       "      <td>1097.698389</td>\n",
       "      <td>37.846881</td>\n",
       "      <td>24.424525</td>\n",
       "    </tr>\n",
       "    <tr>\n",
       "      <th>1</th>\n",
       "      <td>2</td>\n",
       "      <td>676.0</td>\n",
       "      <td>189.627219</td>\n",
       "      <td>1041.396450</td>\n",
       "      <td>37.309940</td>\n",
       "      <td>23.467704</td>\n",
       "    </tr>\n",
       "    <tr>\n",
       "      <th>2</th>\n",
       "      <td>3</td>\n",
       "      <td>410.0</td>\n",
       "      <td>255.880488</td>\n",
       "      <td>719.348780</td>\n",
       "      <td>30.057850</td>\n",
       "      <td>17.937276</td>\n",
       "    </tr>\n",
       "    <tr>\n",
       "      <th>3</th>\n",
       "      <td>4</td>\n",
       "      <td>393.0</td>\n",
       "      <td>348.519084</td>\n",
       "      <td>1015.414758</td>\n",
       "      <td>29.249796</td>\n",
       "      <td>19.877529</td>\n",
       "    </tr>\n",
       "    <tr>\n",
       "      <th>4</th>\n",
       "      <td>5</td>\n",
       "      <td>354.0</td>\n",
       "      <td>587.093220</td>\n",
       "      <td>607.022599</td>\n",
       "      <td>25.084603</td>\n",
       "      <td>18.253541</td>\n",
       "    </tr>\n",
       "  </tbody>\n",
       "</table>\n",
       "</div>"
      ],
      "text/plain": [
       "   label   area  centroid-0   centroid-1  major_axis_length  minor_axis_length\n",
       "0      1  683.0  182.021962  1097.698389          37.846881          24.424525\n",
       "1      2  676.0  189.627219  1041.396450          37.309940          23.467704\n",
       "2      3  410.0  255.880488   719.348780          30.057850          17.937276\n",
       "3      4  393.0  348.519084  1015.414758          29.249796          19.877529\n",
       "4      5  354.0  587.093220   607.022599          25.084603          18.253541"
      ]
     },
     "execution_count": 16,
     "metadata": {},
     "output_type": "execute_result"
    }
   ],
   "source": [
    "# create property dataframe from labeled image\n",
    "props = regionprops_table(\n",
    "    labels.astype(\"int\"),\n",
    "    intensity_image=image,\n",
    "    properties=(\"label\", \"area\", \"centroid\", \"major_axis_length\", \"minor_axis_length\"),\n",
    ")\n",
    "grain_data = pd.DataFrame(props)\n",
    "grain_data[\"major_axis_length\"] = grain_data[\"major_axis_length\"].values\n",
    "grain_data[\"minor_axis_length\"] = grain_data[\"minor_axis_length\"].values\n",
    "grain_data[\"area\"] = grain_data[\"area\"].values\n",
    "grain_data.head()"
   ]
  },
  {
   "cell_type": "code",
   "execution_count": 17,
   "id": "552ca32c",
   "metadata": {
    "execution": {
     "iopub.execute_input": "2025-01-23T16:56:37.107246Z",
     "iopub.status.busy": "2025-01-23T16:56:37.106683Z",
     "iopub.status.idle": "2025-01-23T16:56:37.113536Z",
     "shell.execute_reply": "2025-01-23T16:56:37.112984Z",
     "shell.execute_reply.started": "2025-01-23T16:56:37.107212Z"
    }
   },
   "outputs": [],
   "source": [
    "# convert centroids from row, col to UTM and add them to geodataframe\n",
    "centroid_x, centroid_y = rasterio.transform.xy(\n",
    "    dataset.transform, grain_data[\"centroid-0\"], grain_data[\"centroid-1\"]\n",
    ")\n",
    "gdf[\"centroid_x\"] = centroid_x\n",
    "gdf[\"centroid_y\"] = centroid_y"
   ]
  },
  {
   "cell_type": "code",
   "execution_count": 18,
   "id": "f1b8a302",
   "metadata": {
    "execution": {
     "iopub.execute_input": "2025-01-23T16:56:38.880718Z",
     "iopub.status.busy": "2025-01-23T16:56:38.880388Z",
     "iopub.status.idle": "2025-01-23T16:56:38.891942Z",
     "shell.execute_reply": "2025-01-23T16:56:38.891318Z",
     "shell.execute_reply.started": "2025-01-23T16:56:38.880692Z"
    }
   },
   "outputs": [
    {
     "data": {
      "text/html": [
       "<div>\n",
       "<style scoped>\n",
       "    .dataframe tbody tr th:only-of-type {\n",
       "        vertical-align: middle;\n",
       "    }\n",
       "\n",
       "    .dataframe tbody tr th {\n",
       "        vertical-align: top;\n",
       "    }\n",
       "\n",
       "    .dataframe thead th {\n",
       "        text-align: right;\n",
       "    }\n",
       "</style>\n",
       "<table border=\"1\" class=\"dataframe\">\n",
       "  <thead>\n",
       "    <tr style=\"text-align: right;\">\n",
       "      <th></th>\n",
       "      <th>geometry</th>\n",
       "      <th>centroid_x</th>\n",
       "      <th>centroid_y</th>\n",
       "      <th>major_axis_length</th>\n",
       "      <th>minor_axis_length</th>\n",
       "    </tr>\n",
       "  </thead>\n",
       "  <tbody>\n",
       "    <tr>\n",
       "      <th>0</th>\n",
       "      <td>POLYGON ((339043.943 4686358.495, 339043.941 4...</td>\n",
       "      <td>339043.917150</td>\n",
       "      <td>4.686359e+06</td>\n",
       "      <td>0.068124</td>\n",
       "      <td>0.043964</td>\n",
       "    </tr>\n",
       "    <tr>\n",
       "      <th>1</th>\n",
       "      <td>POLYGON ((339043.824 4686358.479, 339043.822 4...</td>\n",
       "      <td>339043.815807</td>\n",
       "      <td>4.686359e+06</td>\n",
       "      <td>0.067158</td>\n",
       "      <td>0.042242</td>\n",
       "    </tr>\n",
       "    <tr>\n",
       "      <th>2</th>\n",
       "      <td>POLYGON ((339043.228 4686358.364, 339043.226 4...</td>\n",
       "      <td>339043.236121</td>\n",
       "      <td>4.686358e+06</td>\n",
       "      <td>0.054104</td>\n",
       "      <td>0.032287</td>\n",
       "    </tr>\n",
       "    <tr>\n",
       "      <th>3</th>\n",
       "      <td>POLYGON ((339043.768 4686358.191, 339043.767 4...</td>\n",
       "      <td>339043.769040</td>\n",
       "      <td>4.686358e+06</td>\n",
       "      <td>0.052650</td>\n",
       "      <td>0.035780</td>\n",
       "    </tr>\n",
       "    <tr>\n",
       "      <th>4</th>\n",
       "      <td>POLYGON ((339043.036 4686357.764, 339043.034 4...</td>\n",
       "      <td>339043.033934</td>\n",
       "      <td>4.686358e+06</td>\n",
       "      <td>0.045152</td>\n",
       "      <td>0.032856</td>\n",
       "    </tr>\n",
       "  </tbody>\n",
       "</table>\n",
       "</div>"
      ],
      "text/plain": [
       "                                            geometry     centroid_x  \\\n",
       "0  POLYGON ((339043.943 4686358.495, 339043.941 4...  339043.917150   \n",
       "1  POLYGON ((339043.824 4686358.479, 339043.822 4...  339043.815807   \n",
       "2  POLYGON ((339043.228 4686358.364, 339043.226 4...  339043.236121   \n",
       "3  POLYGON ((339043.768 4686358.191, 339043.767 4...  339043.769040   \n",
       "4  POLYGON ((339043.036 4686357.764, 339043.034 4...  339043.033934   \n",
       "\n",
       "     centroid_y  major_axis_length  minor_axis_length  \n",
       "0  4.686359e+06           0.068124           0.043964  \n",
       "1  4.686359e+06           0.067158           0.042242  \n",
       "2  4.686358e+06           0.054104           0.032287  \n",
       "3  4.686358e+06           0.052650           0.035780  \n",
       "4  4.686358e+06           0.045152           0.032856  "
      ]
     },
     "execution_count": 18,
     "metadata": {},
     "output_type": "execute_result"
    }
   ],
   "source": [
    "# convert grain axis lengths to UTM units\n",
    "gdf[\"major_axis_length\"] = grain_data[\"major_axis_length\"] * dataset.transform[0]\n",
    "gdf[\"minor_axis_length\"] = grain_data[\"minor_axis_length\"] * dataset.transform[0]\n",
    "gdf.head()"
   ]
  },
  {
   "cell_type": "code",
   "execution_count": 30,
   "id": "80ef2e7c",
   "metadata": {},
   "outputs": [],
   "source": [
    "# plot grain size distribution\n",
    "# units need to be in mm!\n",
    "fig, ax = seg.plot_histogram_of_axis_lengths(\n",
    "    gdf[\"major_axis_length\"] * 1000,\n",
    "    gdf[\"minor_axis_length\"] * 1000,\n",
    "    binsize=0.25,\n",
    "    xlimits=[8, 2 * 256],\n",
    ")"
   ]
  },
  {
   "cell_type": "code",
   "execution_count": 19,
   "id": "1a7a7dd3",
   "metadata": {
    "execution": {
     "iopub.execute_input": "2025-01-23T16:56:39.597208Z",
     "iopub.status.busy": "2025-01-23T16:56:39.596696Z",
     "iopub.status.idle": "2025-01-23T16:56:39.649556Z",
     "shell.execute_reply": "2025-01-23T16:56:39.649166Z",
     "shell.execute_reply.started": "2025-01-23T16:56:39.597169Z"
    }
   },
   "outputs": [],
   "source": [
    "# check if everything looks good\n",
    "band1 = dataset.read(1)\n",
    "band2 = dataset.read(2)\n",
    "band3 = dataset.read(3)\n",
    "plt.figure()\n",
    "plt.imshow(\n",
    "    np.stack((band1, band2, band3), axis=2),\n",
    "    extent=[dataset.bounds[0], dataset.bounds[2], dataset.bounds[1], dataset.bounds[3]],\n",
    ")\n",
    "plt.scatter(gdf[\"centroid_x\"], gdf[\"centroid_y\"]);"
   ]
  },
  {
   "cell_type": "code",
   "execution_count": 20,
   "id": "2e284de5",
   "metadata": {
    "execution": {
     "iopub.execute_input": "2025-01-23T16:56:46.583736Z",
     "iopub.status.busy": "2025-01-23T16:56:46.583156Z",
     "iopub.status.idle": "2025-01-23T16:56:46.592326Z",
     "shell.execute_reply": "2025-01-23T16:56:46.591696Z",
     "shell.execute_reply.started": "2025-01-23T16:56:46.583692Z"
    }
   },
   "outputs": [],
   "source": [
    "# set geodataframe CRS\n",
    "gdf.crs = dataset.crs"
   ]
  },
  {
   "cell_type": "code",
   "execution_count": 21,
   "id": "27f9b8b3",
   "metadata": {
    "execution": {
     "iopub.execute_input": "2025-01-23T16:56:51.704578Z",
     "iopub.status.busy": "2025-01-23T16:56:51.704233Z",
     "iopub.status.idle": "2025-01-23T16:56:51.734366Z",
     "shell.execute_reply": "2025-01-23T16:56:51.734059Z",
     "shell.execute_reply.started": "2025-01-23T16:56:51.704552Z"
    }
   },
   "outputs": [
    {
     "name": "stderr",
     "output_type": "stream",
     "text": [
      "/var/folders/wn/31h1q45j6y321jzk91br_d3m0000gn/T/ipykernel_61154/3654611385.py:2: UserWarning: Column names longer than 10 characters will be truncated when saved to ESRI Shapefile.\n",
      "  gdf.to_file(\"./examples/RI_T01_Grid_65/projected_grains.shp\")\n",
      "/Users/zoltan/miniforge3/envs/segmenteverygrain/lib/python3.9/site-packages/pyogrio/raw.py:723: RuntimeWarning: Normalized/laundered field name: 'major_axis_length' to 'major_axis'\n",
      "  ogr_write(\n",
      "/Users/zoltan/miniforge3/envs/segmenteverygrain/lib/python3.9/site-packages/pyogrio/raw.py:723: RuntimeWarning: Normalized/laundered field name: 'minor_axis_length' to 'minor_axis'\n",
      "  ogr_write(\n"
     ]
    }
   ],
   "source": [
    "# write shapefile\n",
    "gdf.to_file(\"./examples/RI_T01_Grid_65/projected_grains.shp\")"
   ]
  },
  {
   "cell_type": "code",
   "execution_count": 22,
   "id": "361ceb2d",
   "metadata": {
    "execution": {
     "iopub.execute_input": "2025-01-23T16:56:58.425401Z",
     "iopub.status.busy": "2025-01-23T16:56:58.424874Z",
     "iopub.status.idle": "2025-01-23T16:56:58.430893Z",
     "shell.execute_reply": "2025-01-23T16:56:58.430289Z",
     "shell.execute_reply.started": "2025-01-23T16:56:58.425366Z"
    }
   },
   "outputs": [],
   "source": [
    "dataset.close()"
   ]
  }
 ],
 "metadata": {
  "kernelspec": {
   "display_name": "segmenteverygrain",
   "language": "python",
   "name": "python3"
  },
  "language_info": {
   "codemirror_mode": {
    "name": "ipython",
    "version": 3
   },
   "file_extension": ".py",
   "mimetype": "text/x-python",
   "name": "python",
   "nbconvert_exporter": "python",
   "pygments_lexer": "ipython3",
   "version": "3.9.22"
  }
 },
 "nbformat": 4,
 "nbformat_minor": 5
}
