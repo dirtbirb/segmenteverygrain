{
 "cells": [
  {
   "cell_type": "code",
   "execution_count": null,
   "metadata": {},
   "outputs": [],
   "source": [
    "import segmenteverygrain as seg"
   ]
  },
  {
   "cell_type": "code",
   "execution_count": null,
   "metadata": {},
   "outputs": [],
   "source": [
    "# Settings\n",
    "AUGMENTATION = True\n",
    "EPOCHS = 100\n",
    "OLD_MODEL = 'seg_model.keras'"
   ]
  },
  {
   "cell_type": "code",
   "execution_count": null,
   "metadata": {},
   "outputs": [],
   "source": [
    "# Patchify images and masks\n",
    "# Input directory should contain 'image' and 'mask' in filenames\n",
    "input_dir = \"./Masks_and_images/\"\n",
    "# A directory called \"Patches\" will be created here\n",
    "patch_dir = \"./New_project/\" \n",
    "image_dir, mask_dir = seg.patchify_training_data(\n",
    "    input_dir, patch_dir)"
   ]
  },
  {
   "cell_type": "code",
   "execution_count": null,
   "metadata": {},
   "outputs": [],
   "source": [
    "# Create training, validation, and test datasets\n",
    "train_dataset, val_dataset, test_dataset = seg.create_train_val_test_data(\n",
    "    image_dir, mask_dir, augmentation=AUGMENTATION)"
   ]
  },
  {
   "cell_type": "code",
   "execution_count": null,
   "metadata": {},
   "outputs": [],
   "source": [
    "# Load base model weights and train the model with the new data\n",
    "model = seg.create_and_train_model(\n",
    "    train_dataset, val_dataset, test_dataset,\n",
    "    model_file=OLD_MODEL, epochs=EPOCHS)"
   ]
  },
  {
   "cell_type": "code",
   "execution_count": null,
   "metadata": {},
   "outputs": [],
   "source": [
    "# Save finetuned model as new model \n",
    "model.save('new_model.keras')"
   ]
  }
 ],
 "metadata": {
  "kernelspec": {
   "display_name": "segmenteverygrain",
   "language": "python",
   "name": "python3"
  },
  "language_info": {
   "name": "python",
   "version": "3.9.20"
  }
 },
 "nbformat": 4,
 "nbformat_minor": 2
}
