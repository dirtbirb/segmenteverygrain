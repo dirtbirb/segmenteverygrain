{
 "cells": [
  {
   "cell_type": "code",
   "execution_count": null,
   "metadata": {},
   "outputs": [],
   "source": [
    "# Imports\n",
    "import keras.utils\n",
    "import matplotlib.pyplot as plt\n",
    "import numpy as np\n",
    "import pandas as pd\n",
    "import segment_anything\n",
    "import segmenteverygrain\n",
    "import segmenteverygrain.interactions as si"
   ]
  },
  {
   "cell_type": "code",
   "execution_count": null,
   "metadata": {},
   "outputs": [],
   "source": [
    "# Auto-detection parameters\n",
    "DBS_MAX_DIST = 20.0 # px\n",
    "I = 256             # px?\n",
    "MIN_AREA = 400      # px\n",
    "PX_PER_M = 1        # px/m"
   ]
  },
  {
   "cell_type": "code",
   "execution_count": null,
   "metadata": {},
   "outputs": [],
   "source": [
    "# Load image\n",
    "fn = 'torrey_pines_beach_image.jpeg'\n",
    "image = si.load_image(fn)"
   ]
  },
  {
   "cell_type": "code",
   "execution_count": null,
   "metadata": {},
   "outputs": [],
   "source": [
    "# Load U-Net model\n",
    "fn = './segmenteverygrain/seg_model.keras'\n",
    "unet = keras.saving.load_model(fn, custom_objects={\n",
    "    'weighted_crossentropy': segmenteverygrain.weighted_crossentropy})"
   ]
  },
  {
   "cell_type": "code",
   "execution_count": null,
   "metadata": {},
   "outputs": [],
   "source": [
    "# Apply U-Net model to generate prompts\n",
    "unet_image = segmenteverygrain.predict_image(image, unet, I=I)\n",
    "unet_labels, unet_coords = segmenteverygrain.label_grains(\n",
    "    image, unet_image, dbs_max_dist=DBS_MAX_DIST)"
   ]
  },
  {
   "cell_type": "code",
   "execution_count": null,
   "metadata": {},
   "outputs": [],
   "source": [
    "# Generate U-Net diagnostic image\n",
    "fig, ax = plt.subplots(figsize=(15,10))\n",
    "ax.imshow(unet_image)\n",
    "plt.scatter(np.array(unet_coords)[:,0], np.array(unet_coords)[:,1], c='k')\n",
    "plt.xticks([])\n",
    "plt.yticks([])\n",
    "# fig.savefig('./output/test_unet.jpg', bbox_inches='tight', pad_inches=0)\n",
    "# plt.close()"
   ]
  },
  {
   "cell_type": "code",
   "execution_count": null,
   "metadata": {},
   "outputs": [],
   "source": [
    "# Load SAM\n",
    "fn = 'sam_vit_h_4b8939.pth'\n",
    "sam = segment_anything.sam_model_registry['default'](checkpoint=fn)\n",
    "predictor = segment_anything.SamPredictor(sam)\n",
    "predictor.set_image(image)"
   ]
  },
  {
   "cell_type": "code",
   "execution_count": null,
   "metadata": {},
   "outputs": [],
   "source": [
    "# Apply SAM for actual segmentation\n",
    "grains, sam_labels, mask, summary, fig, ax = segmenteverygrain.sam_segmentation(\n",
    "    sam, image, unet_image, unet_coords, unet_labels,\n",
    "    min_area=MIN_AREA,\n",
    "    plot_image=True,\n",
    "    remove_edge_grains=True,\n",
    "    remove_large_objects=False)"
   ]
  },
  {
   "cell_type": "code",
   "execution_count": null,
   "metadata": {},
   "outputs": [],
   "source": [
    "# Save SAM image\n",
    "# fig.savefig(fn + '_grains.jpg', bbox_inches='tight', pad_inches=0)\n",
    "# plt.close()"
   ]
  },
  {
   "cell_type": "code",
   "execution_count": null,
   "metadata": {},
   "outputs": [],
   "source": [
    "# Extract results\n",
    "grains = [si.Grain(np.array(g.exterior.xy)) for g in grains]\n",
    "for g in grains:\n",
    "    g.measure(image=image)\n",
    "fn = './output/test_auto'\n",
    "# Grain shapes\n",
    "si.save_grains(fn + '_grains.csv', grains)\n",
    "# Summary data\n",
    "si.save_summary(fn + '_summary.csv', grains, px_per_m=PX_PER_M)\n",
    "# Summary histogram\n",
    "si.save_histogram(fn + '_summary.jpg', grains, px_per_m=PX_PER_M)\n",
    "# Training mask\n",
    "si.save_mask(fn + '_mask.png', grains, image, scale=False)\n",
    "si.save_mask(fn + '_mask.jpg', grains, image, scale=True)"
   ]
  }
 ],
 "metadata": {
  "kernelspec": {
   "display_name": "segmenteverygrain",
   "language": "python",
   "name": "python3"
  },
  "language_info": {
   "name": "python",
   "version": "3.9.20"
  }
 },
 "nbformat": 4,
 "nbformat_minor": 2
}
