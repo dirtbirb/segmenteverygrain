{
 "cells": [
  {
   "cell_type": "code",
   "execution_count": null,
   "metadata": {},
   "outputs": [],
   "source": [
    "import matplotlib.pyplot as plt\n",
    "import segment_anything\n",
    "import segmenteverygrain.interactions as si"
   ]
  },
  {
   "cell_type": "code",
   "execution_count": null,
   "metadata": {},
   "outputs": [],
   "source": [
    "FIGSIZE = (12, 8)   # in\n",
    "PX_PER_M = 1        # px/m; be sure not to convert units twice!"
   ]
  },
  {
   "cell_type": "code",
   "execution_count": null,
   "metadata": {},
   "outputs": [],
   "source": [
    "# Load image\n",
    "fn = 'torrey_pines_beach_image.jpeg'\n",
    "image = si.load_image(fn)"
   ]
  },
  {
   "cell_type": "code",
   "execution_count": null,
   "metadata": {},
   "outputs": [],
   "source": [
    "# Load SAM\n",
    "fn = 'sam_vit_h_4b8939.pth'\n",
    "sam = segment_anything.sam_model_registry['default'](checkpoint=fn)\n",
    "predictor = segment_anything.SamPredictor(sam)\n",
    "predictor.set_image(image)"
   ]
  },
  {
   "cell_type": "code",
   "execution_count": null,
   "metadata": {},
   "outputs": [],
   "source": [
    "# Load grains\n",
    "fn = './output/test_edit_grains.csv'\n",
    "grains = si.load_grains(fn)\n",
    "\n",
    "# Use this instead to start from scratch\n",
    "# grains = []"
   ]
  },
  {
   "cell_type": "code",
   "execution_count": null,
   "metadata": {},
   "outputs": [],
   "source": [
    "# Display editing interface\n",
    "plot = si.GrainPlot(\n",
    "    grains, \n",
    "    image=image, \n",
    "    predictor=predictor,\n",
    "    blit=True,\n",
    "    figsize=FIGSIZE,\n",
    "    image_max_size=(240, 320)\n",
    ")\n",
    "plot.activate()\n",
    "# plt.show(block=True)"
   ]
  },
  {
   "cell_type": "code",
   "execution_count": null,
   "metadata": {},
   "outputs": [],
   "source": [
    "plot.deactivate()\n",
    "\n",
    "# Save results\n",
    "fn = './output/test_edit'\n",
    "logger.info(f'Saving results as {fn}')\n",
    "# Grain shapes\n",
    "grains = plot.grains\n",
    "si.save_grains(fn + '_grains.csv', grains)\n",
    "# Grain image\n",
    "plot.savefig(fn + '_grains.jpg')\n",
    "# Summary data\n",
    "si.save_summary(fn + '_summary.csv', grains, px_per_m=PX_PER_M)\n",
    "# Summary histogram\n",
    "si.save_histogram(fn + '_summary.jpg', grains, px_per_m=PX_PER_M)\n",
    "# Training mask\n",
    "si.save_mask(fn + '_mask.png', grains, image, scale=False)\n",
    "si.save_mask(fn + '_mask.jpg', grains, image, scale=True)"
   ]
  }
 ],
 "metadata": {
  "kernelspec": {
   "display_name": "segmenteverygrain",
   "language": "python",
   "name": "python3"
  },
  "language_info": {
   "name": "python",
   "version": "3.9.20"
  }
 },
 "nbformat": 4,
 "nbformat_minor": 2
}
