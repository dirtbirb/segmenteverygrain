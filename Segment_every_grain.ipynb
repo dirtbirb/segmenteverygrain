{
 "cells": [
  {
   "cell_type": "markdown",
   "id": "95a8f02b",
   "metadata": {},
   "source": [
    "## Import packages"
   ]
  },
  {
   "cell_type": "code",
   "execution_count": 1,
   "id": "f2ebc518",
   "metadata": {
    "execution": {
     "iopub.execute_input": "2025-06-17T14:11:07.187633Z",
     "iopub.status.busy": "2025-06-17T14:11:07.186628Z",
     "iopub.status.idle": "2025-06-17T14:12:19.618613Z",
     "shell.execute_reply": "2025-06-17T14:12:19.618242Z",
     "shell.execute_reply.started": "2025-06-17T14:11:07.187573Z"
    }
   },
   "outputs": [],
   "source": [
    "import cv2\n",
    "from keras.utils import load_img\n",
    "from keras.saving import load_model\n",
    "import matplotlib.pyplot as plt\n",
    "import numpy as np\n",
    "import pandas as pd\n",
    "from segment_anything import sam_model_registry, SamPredictor\n",
    "from skimage.measure import regionprops, regionprops_table\n",
    "from tqdm import trange, tqdm\n",
    "\n",
    "import segmenteverygrain as seg\n",
    "\n",
    "%matplotlib qt"
   ]
  },
  {
   "cell_type": "markdown",
   "id": "f474ac20",
   "metadata": {},
   "source": [
    "## Load models"
   ]
  },
  {
   "cell_type": "code",
   "execution_count": 19,
   "id": "fe1bd2bc",
   "metadata": {
    "execution": {
     "iopub.execute_input": "2025-06-30T16:33:14.104231Z",
     "iopub.status.busy": "2025-06-30T16:33:14.103673Z",
     "iopub.status.idle": "2025-06-30T16:33:14.459298Z",
     "shell.execute_reply": "2025-06-30T16:33:14.458920Z",
     "shell.execute_reply.started": "2025-06-30T16:33:14.104194Z"
    }
   },
   "outputs": [],
   "source": [
    "# Load UNET model\n",
    "unet = load_model(\n",
    "    \"./models/seg_model.keras\",\n",
    "    custom_objects={\"weighted_crossentropy\": seg.weighted_crossentropy},\n",
    ")\n",
    "\n",
    "# Download SAM model (only downloads it if it does not exist)\n",
    "import os \n",
    "if not os.path.exists(\"./models/sam_vit_h_4b8939.pth\"):\n",
    "    import urllib.request\n",
    "    url = \"https://dl.fbaipublicfiles.com/segment_anything/sam_vit_h_4b8939.pth\"\n",
    "    urllib.request.urlretrieve(url, \"./models/sam_vit_h_4b8939.pth\")"
   ]
  },
  {
   "cell_type": "markdown",
   "id": "a3c1dfc6",
   "metadata": {},
   "source": [
    "## Run segmentation\n",
    "\n",
    "Grains are supposed to be well defined in the image; e.g., if a grain consists of only a few pixels, it is unlikely to be detected.\n",
    "\n",
    "The segmentation can take a few minutes even for medium-sized images. Images with ~2000 pixels along their largest dimension are a good start and allow the user to get an idea about how well the segmentation works.\n",
    "\n",
    "If you have a much larger image, see the section **\"Run segmentation on large image\"** at the end of the notebook. Running the `predict_large_image` function takes a lot longer (e.g., several hours), but it is possible to analyze very large images with tens of thousands of grains.\n",
    "\n",
    "Image used below is available from [here](https://github.com/zsylvester/segmenteverygrain/blob/main/torrey_pines_beach_image.jpeg)."
   ]
  },
  {
   "cell_type": "code",
   "execution_count": 14,
   "id": "94bf3f94",
   "metadata": {
    "execution": {
     "iopub.execute_input": "2025-06-30T14:47:17.225628Z",
     "iopub.status.busy": "2025-06-30T14:47:17.225005Z",
     "iopub.status.idle": "2025-06-30T14:48:58.730314Z",
     "shell.execute_reply": "2025-06-30T14:48:58.730038Z",
     "shell.execute_reply.started": "2025-06-30T14:47:17.225587Z"
    }
   },
   "outputs": [
    {
     "name": "stdout",
     "output_type": "stream",
     "text": [
      "segmenting image tiles...\n"
     ]
    },
    {
     "name": "stderr",
     "output_type": "stream",
     "text": [
      "100%|█████████████████████████████████████████████| 9/9 [00:02<00:00,  3.66it/s]\n",
      "100%|█████████████████████████████████████████████| 8/8 [00:02<00:00,  3.80it/s]\n"
     ]
    },
    {
     "name": "stdout",
     "output_type": "stream",
     "text": [
      "creating masks using SAM...\n"
     ]
    },
    {
     "name": "stderr",
     "output_type": "stream",
     "text": [
      "100%|███████████████████████████████████████| 1120/1120 [01:04<00:00, 17.29it/s]\n"
     ]
    },
    {
     "name": "stdout",
     "output_type": "stream",
     "text": [
      "finding overlapping polygons...\n"
     ]
    },
    {
     "name": "stderr",
     "output_type": "stream",
     "text": [
      "1112it [00:07, 151.64it/s]\n"
     ]
    },
    {
     "name": "stdout",
     "output_type": "stream",
     "text": [
      "finding best polygons...\n"
     ]
    },
    {
     "name": "stderr",
     "output_type": "stream",
     "text": [
      "100%|█████████████████████████████████████████| 309/309 [00:09<00:00, 31.79it/s]\n"
     ]
    },
    {
     "name": "stdout",
     "output_type": "stream",
     "text": [
      "creating labeled image...\n"
     ]
    },
    {
     "name": "stderr",
     "output_type": "stream",
     "text": [
      "100%|████████████████████████████████████████| 336/336 [00:01<00:00, 209.99it/s]\n"
     ]
    },
    {
     "name": "stdout",
     "output_type": "stream",
     "text": [
      "CPU times: user 2min 36s, sys: 48.4 s, total: 3min 24s\n",
      "Wall time: 1min 41s\n"
     ]
    }
   ],
   "source": [
    "# replace this with the path to your image:\n",
    "fname = \"./examples/barton_creek/barton_creek_image.jpg\"\n",
    "image = np.array(load_img(fname))\n",
    "image_pred = seg.predict_image(image, unet, I=256)\n",
    "\n",
    "# decreasing the 'dbs_max_dist' parameter results in more SAM prompts\n",
    "# (and longer processing times):\n",
    "labels, coords = seg.label_grains(image, image_pred, dbs_max_dist=20.0)"
   ]
  },
  {
   "cell_type": "markdown",
   "id": "7c091d4c",
   "metadata": {},
   "source": [
    "Use the figure created in the next cell to check the quality of the Unet labeling (sometimes it doesn't work at all) and the distribution of SAM prompts (= black dots). If the Unet prediction is of poor quality, it is a good idea to create some training data and fine tune the base model so that it works better with the images of interest."
   ]
  },
  {
   "cell_type": "code",
   "execution_count": 4,
   "id": "e031a13f",
   "metadata": {
    "execution": {
     "iopub.execute_input": "2025-06-17T14:12:44.431266Z",
     "iopub.status.busy": "2025-06-17T14:12:44.430561Z",
     "iopub.status.idle": "2025-06-17T14:12:45.918348Z",
     "shell.execute_reply": "2025-06-17T14:12:45.917694Z",
     "shell.execute_reply.started": "2025-06-17T14:12:44.431224Z"
    }
   },
   "outputs": [],
   "source": [
    "fig, ax = plt.subplots(figsize=(15, 10))\n",
    "ax.imshow(image_pred)\n",
    "plt.scatter(np.array(coords)[:, 0], np.array(coords)[:, 1], c=\"k\")\n",
    "plt.xticks([])\n",
    "plt.yticks([]);"
   ]
  },
  {
   "cell_type": "code",
   "execution_count": 5,
   "id": "99bcedac-6a3f-4f1d-97a9-b167fa14994c",
   "metadata": {
    "execution": {
     "iopub.execute_input": "2025-06-17T14:13:02.231306Z",
     "iopub.status.busy": "2025-06-17T14:13:02.230490Z",
     "iopub.status.idle": "2025-06-17T14:14:31.935425Z",
     "shell.execute_reply": "2025-06-17T14:14:31.935077Z",
     "shell.execute_reply.started": "2025-06-17T14:13:02.231250Z"
    }
   },
   "outputs": [
    {
     "name": "stdout",
     "output_type": "stream",
     "text": [
      "creating masks using SAM...\n"
     ]
    },
    {
     "name": "stderr",
     "output_type": "stream",
     "text": [
      "100%|███████████████████████████████████████| 1120/1120 [01:02<00:00, 17.98it/s]\n"
     ]
    },
    {
     "name": "stdout",
     "output_type": "stream",
     "text": [
      "finding overlapping polygons...\n"
     ]
    },
    {
     "name": "stderr",
     "output_type": "stream",
     "text": [
      "1112it [00:07, 152.39it/s]\n"
     ]
    },
    {
     "name": "stdout",
     "output_type": "stream",
     "text": [
      "finding best polygons...\n"
     ]
    },
    {
     "name": "stderr",
     "output_type": "stream",
     "text": [
      "100%|█████████████████████████████████████████| 309/309 [00:09<00:00, 31.69it/s]\n"
     ]
    },
    {
     "name": "stdout",
     "output_type": "stream",
     "text": [
      "creating labeled image...\n"
     ]
    },
    {
     "name": "stderr",
     "output_type": "stream",
     "text": [
      "100%|████████████████████████████████████████| 336/336 [00:01<00:00, 213.44it/s]\n"
     ]
    }
   ],
   "source": [
    "# SAM segmentation, using the point prompts from the Unet:\n",
    "all_grains, labels, mask_all, grain_data, fig, ax = seg.sam_segmentation(\n",
    "    sam,\n",
    "    image,\n",
    "    image_pred,\n",
    "    coords,\n",
    "    labels,\n",
    "    min_area=400.0,\n",
    "    plot_image=True,\n",
    "    remove_edge_grains=False,\n",
    "    remove_large_objects=False,\n",
    ")"
   ]
  },
  {
   "cell_type": "markdown",
   "id": "968737c4",
   "metadata": {},
   "source": [
    "## Delete or merge grains in segmentation result\n",
    "* click on the grain that you want to remove and press the 'x' key\n",
    "* click on two grains that you want to merge and press the 'm' key (they have to be the last two grains you clicked on)\n",
    "* press the 'g' key to hide the grain masks (so that you can see the original image better); press the 'g' key again to show the grain masks"
   ]
  },
  {
   "cell_type": "code",
   "execution_count": 6,
   "id": "e1761761",
   "metadata": {
    "execution": {
     "iopub.execute_input": "2025-06-17T14:14:47.531549Z",
     "iopub.status.busy": "2025-06-17T14:14:47.530781Z",
     "iopub.status.idle": "2025-06-17T14:14:47.540047Z",
     "shell.execute_reply": "2025-06-17T14:14:47.539172Z",
     "shell.execute_reply.started": "2025-06-17T14:14:47.531498Z"
    }
   },
   "outputs": [],
   "source": [
    "grain_inds = []\n",
    "cid1 = fig.canvas.mpl_connect(\n",
    "    \"button_press_event\",\n",
    "    lambda event: seg.onclick2(event, all_grains, grain_inds, ax=ax),\n",
    ")\n",
    "cid2 = fig.canvas.mpl_connect(\n",
    "    \"key_press_event\",\n",
    "    lambda event: seg.onpress2(event, all_grains, grain_inds, fig=fig, ax=ax),\n",
    ")"
   ]
  },
  {
   "cell_type": "markdown",
   "id": "5d08448d",
   "metadata": {},
   "source": [
    "Run this cell if you do not want to delete / merge existing grains anymore; it is a good idea to do this before moving on to the next step."
   ]
  },
  {
   "cell_type": "code",
   "execution_count": 7,
   "id": "8b6987ae",
   "metadata": {
    "execution": {
     "iopub.execute_input": "2025-06-17T14:14:59.473714Z",
     "iopub.status.busy": "2025-06-17T14:14:59.473086Z",
     "iopub.status.idle": "2025-06-17T14:14:59.479147Z",
     "shell.execute_reply": "2025-06-17T14:14:59.478299Z",
     "shell.execute_reply.started": "2025-06-17T14:14:59.473666Z"
    }
   },
   "outputs": [],
   "source": [
    "fig.canvas.mpl_disconnect(cid1)\n",
    "fig.canvas.mpl_disconnect(cid2)"
   ]
  },
  {
   "cell_type": "markdown",
   "id": "b1ef7d75",
   "metadata": {},
   "source": [
    "Use this function to update the 'labels' array after deleting and merging grains (the 'all_grains' list is updated when doing the deletion and merging):"
   ]
  },
  {
   "cell_type": "code",
   "execution_count": 8,
   "id": "9f7b8082",
   "metadata": {
    "execution": {
     "iopub.execute_input": "2025-06-17T14:15:00.933495Z",
     "iopub.status.busy": "2025-06-17T14:15:00.932898Z",
     "iopub.status.idle": "2025-06-17T14:15:01.859887Z",
     "shell.execute_reply": "2025-06-17T14:15:01.859484Z",
     "shell.execute_reply.started": "2025-06-17T14:15:00.933458Z"
    }
   },
   "outputs": [
    {
     "name": "stderr",
     "output_type": "stream",
     "text": [
      "100%|███████████████████████████████████████| 334/334 [00:00<00:00, 2349.30it/s]\n",
      "334it [00:00, 1250.07it/s]\n"
     ]
    }
   ],
   "source": [
    "all_grains, labels, mask_all = seg.get_grains_from_patches(ax, image)"
   ]
  },
  {
   "cell_type": "markdown",
   "id": "36ca344c",
   "metadata": {},
   "source": [
    "Plot the updated set of grains:"
   ]
  },
  {
   "cell_type": "code",
   "execution_count": 9,
   "id": "7e0f7f02",
   "metadata": {
    "execution": {
     "iopub.execute_input": "2025-06-17T14:15:03.208591Z",
     "iopub.status.busy": "2025-06-17T14:15:03.207982Z",
     "iopub.status.idle": "2025-06-17T14:15:05.119983Z",
     "shell.execute_reply": "2025-06-17T14:15:05.119224Z",
     "shell.execute_reply.started": "2025-06-17T14:15:03.208549Z"
    }
   },
   "outputs": [
    {
     "name": "stderr",
     "output_type": "stream",
     "text": [
      "100%|████████████████████████████████████████| 334/334 [00:01<00:00, 212.47it/s]\n"
     ]
    }
   ],
   "source": [
    "fig, ax = plt.subplots(figsize=(15, 10))\n",
    "plt.xticks([])\n",
    "plt.yticks([])\n",
    "seg.plot_image_w_colorful_grains(image, all_grains, ax, cmap=\"Paired\", plot_image=True)\n",
    "seg.plot_grain_axes_and_centroids(all_grains, labels, ax, linewidth=1, markersize=10)\n",
    "plt.xlim([0, np.shape(image)[1]])\n",
    "plt.ylim([np.shape(image)[0], 0]);"
   ]
  },
  {
   "cell_type": "markdown",
   "id": "ab7201a5",
   "metadata": {},
   "source": [
    "## Add new grains using the Segment Anything Model\n",
    "\n",
    "* click on unsegmented grain that you want to add\n",
    "* press the 'x' key if you want to delete the last grain you added\n",
    "* press the 'm' key if you want to merge the last two grains that you added\n",
    "* right click outside the grain (but inside the most recent mask) if you want to restrict the grain to a smaller mask - this adds a background prompt"
   ]
  },
  {
   "cell_type": "code",
   "execution_count": 10,
   "id": "04b1a138",
   "metadata": {
    "execution": {
     "iopub.execute_input": "2025-06-17T14:15:09.896937Z",
     "iopub.status.busy": "2025-06-17T14:15:09.896346Z",
     "iopub.status.idle": "2025-06-17T14:15:16.897030Z",
     "shell.execute_reply": "2025-06-17T14:15:16.896662Z",
     "shell.execute_reply.started": "2025-06-17T14:15:09.896898Z"
    }
   },
   "outputs": [],
   "source": [
    "predictor = SamPredictor(sam)\n",
    "predictor.set_image(image)  # this can take a while\n",
    "coords = []\n",
    "cid3 = fig.canvas.mpl_connect(\n",
    "    \"button_press_event\", lambda event: seg.onclick(event, ax, coords, image, predictor)\n",
    ")\n",
    "cid4 = fig.canvas.mpl_connect(\n",
    "    \"key_press_event\", lambda event: seg.onpress(event, ax, fig)\n",
    ")"
   ]
  },
  {
   "cell_type": "code",
   "execution_count": 11,
   "id": "02386a92",
   "metadata": {
    "execution": {
     "iopub.execute_input": "2025-06-17T14:15:33.262831Z",
     "iopub.status.busy": "2025-06-17T14:15:33.262059Z",
     "iopub.status.idle": "2025-06-17T14:15:33.268145Z",
     "shell.execute_reply": "2025-06-17T14:15:33.267252Z",
     "shell.execute_reply.started": "2025-06-17T14:15:33.262779Z"
    }
   },
   "outputs": [],
   "source": [
    "fig.canvas.mpl_disconnect(cid3)\n",
    "fig.canvas.mpl_disconnect(cid4)"
   ]
  },
  {
   "cell_type": "markdown",
   "id": "6ae4b89a",
   "metadata": {},
   "source": [
    "After you are done with the deletion / addition of grain masks, run this cell to generate an updated set of grains:"
   ]
  },
  {
   "cell_type": "code",
   "execution_count": 12,
   "id": "4355b526",
   "metadata": {
    "execution": {
     "iopub.execute_input": "2025-06-17T14:15:38.394991Z",
     "iopub.status.busy": "2025-06-17T14:15:38.394553Z",
     "iopub.status.idle": "2025-06-17T14:15:39.325634Z",
     "shell.execute_reply": "2025-06-17T14:15:39.325311Z",
     "shell.execute_reply.started": "2025-06-17T14:15:38.394954Z"
    }
   },
   "outputs": [
    {
     "name": "stderr",
     "output_type": "stream",
     "text": [
      "100%|███████████████████████████████████████| 334/334 [00:00<00:00, 2416.37it/s]\n",
      "334it [00:00, 1242.03it/s]\n"
     ]
    }
   ],
   "source": [
    "all_grains, labels, mask_all = seg.get_grains_from_patches(ax, image)"
   ]
  },
  {
   "cell_type": "markdown",
   "id": "768a05d2",
   "metadata": {},
   "source": [
    "## Get grain size distribution"
   ]
  },
  {
   "cell_type": "markdown",
   "id": "96892a89",
   "metadata": {},
   "source": [
    "Run this cell and then click (left mouse button) on one end of the scale bar in the image and click (right mouse button) on the other end of the scale bar:"
   ]
  },
  {
   "cell_type": "code",
   "execution_count": 49,
   "id": "869c6cd4",
   "metadata": {
    "execution": {
     "iopub.execute_input": "2025-04-23T21:47:19.563349Z",
     "iopub.status.busy": "2025-04-23T21:47:19.562975Z",
     "iopub.status.idle": "2025-04-23T21:47:19.566933Z",
     "shell.execute_reply": "2025-04-23T21:47:19.566267Z",
     "shell.execute_reply.started": "2025-04-23T21:47:19.563321Z"
    }
   },
   "outputs": [
    {
     "name": "stdout",
     "output_type": "stream",
     "text": [
      "number of pixels: 374.26\n"
     ]
    }
   ],
   "source": [
    "cid5 = fig.canvas.mpl_connect(\n",
    "    \"button_press_event\", lambda event: seg.click_for_scale(event, ax)\n",
    ")"
   ]
  },
  {
   "cell_type": "markdown",
   "id": "658e2f0a",
   "metadata": {},
   "source": [
    "Use the length of the scale bar in pixels (it should be printed above) to get the scale of the image (in units / pixel):"
   ]
  },
  {
   "cell_type": "code",
   "execution_count": 50,
   "id": "7893cfb7",
   "metadata": {
    "execution": {
     "iopub.execute_input": "2025-04-23T21:47:38.978912Z",
     "iopub.status.busy": "2025-04-23T21:47:38.978169Z",
     "iopub.status.idle": "2025-04-23T21:47:38.983282Z",
     "shell.execute_reply": "2025-04-23T21:47:38.982493Z",
     "shell.execute_reply.started": "2025-04-23T21:47:38.978850Z"
    }
   },
   "outputs": [],
   "source": [
    "n_of_units = 10.0  # centimeters if using 'barton_creek_image.jpg'\n",
    "units_per_pixel = n_of_units / 374.26  # length of scale bar in pixels"
   ]
  },
  {
   "cell_type": "code",
   "execution_count": 51,
   "id": "b56c5732",
   "metadata": {
    "execution": {
     "iopub.execute_input": "2025-04-23T21:47:40.350274Z",
     "iopub.status.busy": "2025-04-23T21:47:40.349903Z",
     "iopub.status.idle": "2025-04-23T21:47:40.874815Z",
     "shell.execute_reply": "2025-04-23T21:47:40.874470Z",
     "shell.execute_reply.started": "2025-04-23T21:47:40.350246Z"
    }
   },
   "outputs": [],
   "source": [
    "props = regionprops_table(\n",
    "    labels.astype(\"int\"),\n",
    "    intensity_image=image,\n",
    "    properties=(\n",
    "        \"label\",\n",
    "        \"area\",\n",
    "        \"centroid\",\n",
    "        \"major_axis_length\",\n",
    "        \"minor_axis_length\",\n",
    "        \"orientation\",\n",
    "        \"perimeter\",\n",
    "        \"max_intensity\",\n",
    "        \"mean_intensity\",\n",
    "        \"min_intensity\",\n",
    "    ),\n",
    ")\n",
    "grain_data = pd.DataFrame(props)\n",
    "grain_data[\"major_axis_length\"] = (\n",
    "    grain_data[\"major_axis_length\"].values * units_per_pixel\n",
    ")\n",
    "grain_data[\"minor_axis_length\"] = (\n",
    "    grain_data[\"minor_axis_length\"].values * units_per_pixel\n",
    ")\n",
    "grain_data[\"perimeter\"] = grain_data[\"perimeter\"].values * units_per_pixel\n",
    "grain_data[\"area\"] = grain_data[\"area\"].values * units_per_pixel**2"
   ]
  },
  {
   "cell_type": "code",
   "execution_count": 52,
   "id": "202f5650",
   "metadata": {
    "execution": {
     "iopub.execute_input": "2025-04-23T21:47:42.041061Z",
     "iopub.status.busy": "2025-04-23T21:47:42.040715Z",
     "iopub.status.idle": "2025-04-23T21:47:42.061301Z",
     "shell.execute_reply": "2025-04-23T21:47:42.060739Z",
     "shell.execute_reply.started": "2025-04-23T21:47:42.041035Z"
    }
   },
   "outputs": [
    {
     "data": {
      "text/html": [
       "<div>\n",
       "<style scoped>\n",
       "    .dataframe tbody tr th:only-of-type {\n",
       "        vertical-align: middle;\n",
       "    }\n",
       "\n",
       "    .dataframe tbody tr th {\n",
       "        vertical-align: top;\n",
       "    }\n",
       "\n",
       "    .dataframe thead th {\n",
       "        text-align: right;\n",
       "    }\n",
       "</style>\n",
       "<table border=\"1\" class=\"dataframe\">\n",
       "  <thead>\n",
       "    <tr style=\"text-align: right;\">\n",
       "      <th></th>\n",
       "      <th>label</th>\n",
       "      <th>area</th>\n",
       "      <th>centroid-0</th>\n",
       "      <th>centroid-1</th>\n",
       "      <th>major_axis_length</th>\n",
       "      <th>minor_axis_length</th>\n",
       "      <th>orientation</th>\n",
       "      <th>perimeter</th>\n",
       "      <th>max_intensity-0</th>\n",
       "      <th>max_intensity-1</th>\n",
       "      <th>max_intensity-2</th>\n",
       "      <th>mean_intensity-0</th>\n",
       "      <th>mean_intensity-1</th>\n",
       "      <th>mean_intensity-2</th>\n",
       "      <th>min_intensity-0</th>\n",
       "      <th>min_intensity-1</th>\n",
       "      <th>min_intensity-2</th>\n",
       "    </tr>\n",
       "  </thead>\n",
       "  <tbody>\n",
       "    <tr>\n",
       "      <th>0</th>\n",
       "      <td>1</td>\n",
       "      <td>1.638460</td>\n",
       "      <td>43.381699</td>\n",
       "      <td>1309.247495</td>\n",
       "      <td>2.283864</td>\n",
       "      <td>1.114569</td>\n",
       "      <td>1.515264</td>\n",
       "      <td>6.622803</td>\n",
       "      <td>71.0</td>\n",
       "      <td>74.0</td>\n",
       "      <td>81.0</td>\n",
       "      <td>22.122876</td>\n",
       "      <td>22.969499</td>\n",
       "      <td>28.977778</td>\n",
       "      <td>0.0</td>\n",
       "      <td>0.0</td>\n",
       "      <td>0.0</td>\n",
       "    </tr>\n",
       "    <tr>\n",
       "      <th>1</th>\n",
       "      <td>2</td>\n",
       "      <td>0.789602</td>\n",
       "      <td>80.790235</td>\n",
       "      <td>445.920434</td>\n",
       "      <td>1.928161</td>\n",
       "      <td>0.590840</td>\n",
       "      <td>0.257955</td>\n",
       "      <td>4.501364</td>\n",
       "      <td>211.0</td>\n",
       "      <td>213.0</td>\n",
       "      <td>212.0</td>\n",
       "      <td>80.692586</td>\n",
       "      <td>82.019892</td>\n",
       "      <td>84.280289</td>\n",
       "      <td>0.0</td>\n",
       "      <td>0.0</td>\n",
       "      <td>2.0</td>\n",
       "    </tr>\n",
       "    <tr>\n",
       "      <th>2</th>\n",
       "      <td>3</td>\n",
       "      <td>0.680371</td>\n",
       "      <td>211.855194</td>\n",
       "      <td>1287.741868</td>\n",
       "      <td>1.435305</td>\n",
       "      <td>0.719128</td>\n",
       "      <td>-0.258269</td>\n",
       "      <td>3.775356</td>\n",
       "      <td>68.0</td>\n",
       "      <td>69.0</td>\n",
       "      <td>71.0</td>\n",
       "      <td>19.193075</td>\n",
       "      <td>19.867786</td>\n",
       "      <td>21.357817</td>\n",
       "      <td>0.0</td>\n",
       "      <td>0.0</td>\n",
       "      <td>0.0</td>\n",
       "    </tr>\n",
       "    <tr>\n",
       "      <th>3</th>\n",
       "      <td>4</td>\n",
       "      <td>0.793886</td>\n",
       "      <td>303.482014</td>\n",
       "      <td>1784.839029</td>\n",
       "      <td>1.477209</td>\n",
       "      <td>0.807340</td>\n",
       "      <td>0.185842</td>\n",
       "      <td>4.243338</td>\n",
       "      <td>191.0</td>\n",
       "      <td>190.0</td>\n",
       "      <td>188.0</td>\n",
       "      <td>116.599820</td>\n",
       "      <td>113.858813</td>\n",
       "      <td>111.160072</td>\n",
       "      <td>2.0</td>\n",
       "      <td>0.0</td>\n",
       "      <td>5.0</td>\n",
       "    </tr>\n",
       "    <tr>\n",
       "      <th>4</th>\n",
       "      <td>5</td>\n",
       "      <td>0.591131</td>\n",
       "      <td>314.114734</td>\n",
       "      <td>1820.256039</td>\n",
       "      <td>1.203063</td>\n",
       "      <td>0.672594</td>\n",
       "      <td>1.374467</td>\n",
       "      <td>3.277642</td>\n",
       "      <td>147.0</td>\n",
       "      <td>142.0</td>\n",
       "      <td>138.0</td>\n",
       "      <td>41.028986</td>\n",
       "      <td>40.020531</td>\n",
       "      <td>39.427536</td>\n",
       "      <td>3.0</td>\n",
       "      <td>0.0</td>\n",
       "      <td>0.0</td>\n",
       "    </tr>\n",
       "  </tbody>\n",
       "</table>\n",
       "</div>"
      ],
      "text/plain": [
       "   label      area  centroid-0   centroid-1  major_axis_length  \\\n",
       "0      1  1.638460   43.381699  1309.247495           2.283864   \n",
       "1      2  0.789602   80.790235   445.920434           1.928161   \n",
       "2      3  0.680371  211.855194  1287.741868           1.435305   \n",
       "3      4  0.793886  303.482014  1784.839029           1.477209   \n",
       "4      5  0.591131  314.114734  1820.256039           1.203063   \n",
       "\n",
       "   minor_axis_length  orientation  perimeter  max_intensity-0  \\\n",
       "0           1.114569     1.515264   6.622803             71.0   \n",
       "1           0.590840     0.257955   4.501364            211.0   \n",
       "2           0.719128    -0.258269   3.775356             68.0   \n",
       "3           0.807340     0.185842   4.243338            191.0   \n",
       "4           0.672594     1.374467   3.277642            147.0   \n",
       "\n",
       "   max_intensity-1  max_intensity-2  mean_intensity-0  mean_intensity-1  \\\n",
       "0             74.0             81.0         22.122876         22.969499   \n",
       "1            213.0            212.0         80.692586         82.019892   \n",
       "2             69.0             71.0         19.193075         19.867786   \n",
       "3            190.0            188.0        116.599820        113.858813   \n",
       "4            142.0            138.0         41.028986         40.020531   \n",
       "\n",
       "   mean_intensity-2  min_intensity-0  min_intensity-1  min_intensity-2  \n",
       "0         28.977778              0.0              0.0              0.0  \n",
       "1         84.280289              0.0              0.0              2.0  \n",
       "2         21.357817              0.0              0.0              0.0  \n",
       "3        111.160072              2.0              0.0              5.0  \n",
       "4         39.427536              3.0              0.0              0.0  "
      ]
     },
     "execution_count": 52,
     "metadata": {},
     "output_type": "execute_result"
    }
   ],
   "source": [
    "grain_data.head()"
   ]
  },
  {
   "cell_type": "code",
   "execution_count": 53,
   "id": "5a701881-07fa-4662-aafa-d432661fafff",
   "metadata": {
    "execution": {
     "iopub.execute_input": "2025-04-23T21:47:44.762043Z",
     "iopub.status.busy": "2025-04-23T21:47:44.761698Z",
     "iopub.status.idle": "2025-04-23T21:47:44.775290Z",
     "shell.execute_reply": "2025-04-23T21:47:44.774351Z",
     "shell.execute_reply.started": "2025-04-23T21:47:44.762017Z"
    }
   },
   "outputs": [],
   "source": [
    "grain_data.to_csv(fname[:-4] + \".csv\")  # save grain data to CSV file"
   ]
  },
  {
   "cell_type": "code",
   "execution_count": 54,
   "id": "a8663eef",
   "metadata": {
    "execution": {
     "iopub.execute_input": "2025-04-23T21:47:47.263002Z",
     "iopub.status.busy": "2025-04-23T21:47:47.262658Z",
     "iopub.status.idle": "2025-04-23T21:47:47.321254Z",
     "shell.execute_reply": "2025-04-23T21:47:47.320803Z",
     "shell.execute_reply.started": "2025-04-23T21:47:47.262976Z"
    }
   },
   "outputs": [],
   "source": [
    "# plot histogram of grain axis lengths\n",
    "# note that input data needs to be in milimeters!\n",
    "# these limits are for 'barton_creek_image.jpg'\n",
    "fig, ax = seg.plot_histogram_of_axis_lengths(\n",
    "    grain_data[\"major_axis_length\"] * 10,\n",
    "    grain_data[\"minor_axis_length\"] * 10,\n",
    "    binsize=0.4,\n",
    "    xlimits=[2, 128],\n",
    ")"
   ]
  },
  {
   "cell_type": "markdown",
   "id": "039415c6",
   "metadata": {},
   "source": [
    "## Save mask and grain labels to PNG files"
   ]
  },
  {
   "cell_type": "code",
   "execution_count": 55,
   "id": "c4962ba6",
   "metadata": {
    "execution": {
     "iopub.execute_input": "2025-04-23T21:47:51.131212Z",
     "iopub.status.busy": "2025-04-23T21:47:51.130854Z",
     "iopub.status.idle": "2025-04-23T21:47:51.243725Z",
     "shell.execute_reply": "2025-04-23T21:47:51.243310Z",
     "shell.execute_reply.started": "2025-04-23T21:47:51.131183Z"
    }
   },
   "outputs": [
    {
     "data": {
      "text/plain": [
       "True"
      ]
     },
     "execution_count": 55,
     "metadata": {},
     "output_type": "execute_result"
    }
   ],
   "source": [
    "dirname = \"./examples/barton_creek/\"\n",
    "# write grayscale mask to PNG file\n",
    "cv2.imwrite(dirname + fname.split(\"/\")[-1][:-4] + \"_mask.png\", mask_all)\n",
    "# Save the image as a PNG file\n",
    "cv2.imwrite(\n",
    "    dirname + fname.split(\"/\")[-1][:-4] + \"_image.png\",\n",
    "    cv2.cvtColor(image, cv2.COLOR_BGR2RGB),\n",
    ")"
   ]
  },
  {
   "cell_type": "markdown",
   "id": "77db7f2b-7718-4466-a1d8-41aa3d3d0803",
   "metadata": {},
   "source": [
    "## Run segmentation on large image\n",
    "In this case 'fname' points to an image that is larger than a few megapixels and has thousands of grains.\n",
    "The 'predict_large_image' function breaks the input image into smaller patches and it runs the segmentation process on each patch.\n",
    "\n",
    "The image used below (from [Mair et al., 2022, Earth Surface Dynamics](https://esurf.copernicus.org/articles/10/953/2022/)) is available [here](https://github.com/zsylvester/segmenteverygrain/blob/main/mair_et_al_L2_DJI_0382_image.jpg)."
   ]
  },
  {
   "cell_type": "code",
   "execution_count": 16,
   "id": "90eed72b-4cad-409a-b7bf-bbad0e5dfa74",
   "metadata": {
    "execution": {
     "iopub.execute_input": "2025-06-30T15:34:07.651220Z",
     "iopub.status.busy": "2025-06-30T15:34:07.650589Z",
     "iopub.status.idle": "2025-06-30T15:54:44.815272Z",
     "shell.execute_reply": "2025-06-30T15:54:44.814986Z",
     "shell.execute_reply.started": "2025-06-30T15:34:07.651177Z"
    }
   },
   "outputs": [
    {
     "name": "stdout",
     "output_type": "stream",
     "text": [
      "segmenting image tiles...\n"
     ]
    },
    {
     "name": "stderr",
     "output_type": "stream",
     "text": [
      "100%|█████████████████████████████████████████████| 9/9 [00:03<00:00,  2.49it/s]\n",
      "100%|█████████████████████████████████████████████| 8/8 [00:03<00:00,  2.59it/s]\n"
     ]
    },
    {
     "name": "stdout",
     "output_type": "stream",
     "text": [
      "creating masks using SAM...\n"
     ]
    },
    {
     "name": "stderr",
     "output_type": "stream",
     "text": [
      "100%|███████████████████████████████████████| 2804/2804 [03:05<00:00, 15.12it/s]\n"
     ]
    },
    {
     "name": "stdout",
     "output_type": "stream",
     "text": [
      "finding overlapping polygons...\n"
     ]
    },
    {
     "name": "stderr",
     "output_type": "stream",
     "text": [
      "2537it [00:04, 564.76it/s]\n"
     ]
    },
    {
     "name": "stdout",
     "output_type": "stream",
     "text": [
      "finding best polygons...\n"
     ]
    },
    {
     "name": "stderr",
     "output_type": "stream",
     "text": [
      "100%|███████████████████████████████████████| 1021/1021 [00:24<00:00, 41.86it/s]\n"
     ]
    },
    {
     "name": "stdout",
     "output_type": "stream",
     "text": [
      "creating labeled image...\n",
      "processed patch #1 out of 6 patches\n",
      "segmenting image tiles...\n"
     ]
    },
    {
     "name": "stderr",
     "output_type": "stream",
     "text": [
      "100%|█████████████████████████████████████████████| 9/9 [00:03<00:00,  2.51it/s]\n",
      "100%|█████████████████████████████████████████████| 8/8 [00:03<00:00,  2.54it/s]\n"
     ]
    },
    {
     "name": "stdout",
     "output_type": "stream",
     "text": [
      "creating masks using SAM...\n"
     ]
    },
    {
     "name": "stderr",
     "output_type": "stream",
     "text": [
      "100%|███████████████████████████████████████| 1996/1996 [02:30<00:00, 13.25it/s]\n"
     ]
    },
    {
     "name": "stdout",
     "output_type": "stream",
     "text": [
      "finding overlapping polygons...\n"
     ]
    },
    {
     "name": "stderr",
     "output_type": "stream",
     "text": [
      "1766it [00:04, 407.11it/s]\n"
     ]
    },
    {
     "name": "stdout",
     "output_type": "stream",
     "text": [
      "finding best polygons...\n"
     ]
    },
    {
     "name": "stderr",
     "output_type": "stream",
     "text": [
      "100%|█████████████████████████████████████████| 666/666 [00:14<00:00, 47.20it/s]\n"
     ]
    },
    {
     "name": "stdout",
     "output_type": "stream",
     "text": [
      "creating labeled image...\n",
      "processed patch #2 out of 6 patches\n",
      "segmenting image tiles...\n"
     ]
    },
    {
     "name": "stderr",
     "output_type": "stream",
     "text": [
      "100%|█████████████████████████████████████████████| 9/9 [00:03<00:00,  2.43it/s]\n",
      "100%|█████████████████████████████████████████████| 8/8 [00:03<00:00,  2.51it/s]\n"
     ]
    },
    {
     "name": "stdout",
     "output_type": "stream",
     "text": [
      "creating masks using SAM...\n"
     ]
    },
    {
     "name": "stderr",
     "output_type": "stream",
     "text": [
      "100%|███████████████████████████████████████| 1757/1757 [01:58<00:00, 14.87it/s]\n"
     ]
    },
    {
     "name": "stdout",
     "output_type": "stream",
     "text": [
      "finding overlapping polygons...\n"
     ]
    },
    {
     "name": "stderr",
     "output_type": "stream",
     "text": [
      "1545it [00:04, 382.49it/s]\n"
     ]
    },
    {
     "name": "stdout",
     "output_type": "stream",
     "text": [
      "finding best polygons...\n"
     ]
    },
    {
     "name": "stderr",
     "output_type": "stream",
     "text": [
      "100%|█████████████████████████████████████████| 581/581 [00:11<00:00, 51.84it/s]\n"
     ]
    },
    {
     "name": "stdout",
     "output_type": "stream",
     "text": [
      "creating labeled image...\n",
      "processed patch #3 out of 6 patches\n",
      "segmenting image tiles...\n"
     ]
    },
    {
     "name": "stderr",
     "output_type": "stream",
     "text": [
      "100%|█████████████████████████████████████████████| 9/9 [00:03<00:00,  2.52it/s]\n",
      "100%|█████████████████████████████████████████████| 8/8 [00:03<00:00,  2.53it/s]\n"
     ]
    },
    {
     "name": "stdout",
     "output_type": "stream",
     "text": [
      "creating masks using SAM...\n"
     ]
    },
    {
     "name": "stderr",
     "output_type": "stream",
     "text": [
      "100%|███████████████████████████████████████| 3173/3173 [03:45<00:00, 14.09it/s]\n"
     ]
    },
    {
     "name": "stdout",
     "output_type": "stream",
     "text": [
      "finding overlapping polygons...\n"
     ]
    },
    {
     "name": "stderr",
     "output_type": "stream",
     "text": [
      "2941it [00:03, 855.91it/s] \n"
     ]
    },
    {
     "name": "stdout",
     "output_type": "stream",
     "text": [
      "finding best polygons...\n"
     ]
    },
    {
     "name": "stderr",
     "output_type": "stream",
     "text": [
      "100%|███████████████████████████████████████| 1250/1250 [00:31<00:00, 39.28it/s]\n"
     ]
    },
    {
     "name": "stdout",
     "output_type": "stream",
     "text": [
      "creating labeled image...\n",
      "processed patch #4 out of 6 patches\n",
      "segmenting image tiles...\n"
     ]
    },
    {
     "name": "stderr",
     "output_type": "stream",
     "text": [
      "100%|█████████████████████████████████████████████| 9/9 [00:03<00:00,  2.55it/s]\n",
      "100%|█████████████████████████████████████████████| 8/8 [00:03<00:00,  2.60it/s]\n"
     ]
    },
    {
     "name": "stdout",
     "output_type": "stream",
     "text": [
      "creating masks using SAM...\n"
     ]
    },
    {
     "name": "stderr",
     "output_type": "stream",
     "text": [
      "100%|███████████████████████████████████████| 2041/2041 [02:18<00:00, 14.71it/s]\n"
     ]
    },
    {
     "name": "stdout",
     "output_type": "stream",
     "text": [
      "finding overlapping polygons...\n"
     ]
    },
    {
     "name": "stderr",
     "output_type": "stream",
     "text": [
      "1811it [00:04, 437.23it/s]\n"
     ]
    },
    {
     "name": "stdout",
     "output_type": "stream",
     "text": [
      "finding best polygons...\n"
     ]
    },
    {
     "name": "stderr",
     "output_type": "stream",
     "text": [
      "100%|█████████████████████████████████████████| 693/693 [00:14<00:00, 47.36it/s]\n"
     ]
    },
    {
     "name": "stdout",
     "output_type": "stream",
     "text": [
      "creating labeled image...\n",
      "processed patch #5 out of 6 patches\n",
      "segmenting image tiles...\n"
     ]
    },
    {
     "name": "stderr",
     "output_type": "stream",
     "text": [
      "100%|█████████████████████████████████████████████| 9/9 [00:03<00:00,  2.54it/s]\n",
      "100%|█████████████████████████████████████████████| 8/8 [00:03<00:00,  2.58it/s]\n"
     ]
    },
    {
     "name": "stdout",
     "output_type": "stream",
     "text": [
      "creating masks using SAM...\n"
     ]
    },
    {
     "name": "stderr",
     "output_type": "stream",
     "text": [
      "100%|███████████████████████████████████████| 1662/1662 [01:56<00:00, 14.24it/s]\n"
     ]
    },
    {
     "name": "stdout",
     "output_type": "stream",
     "text": [
      "finding overlapping polygons...\n"
     ]
    },
    {
     "name": "stderr",
     "output_type": "stream",
     "text": [
      "1436it [00:04, 327.18it/s]\n"
     ]
    },
    {
     "name": "stdout",
     "output_type": "stream",
     "text": [
      "finding best polygons...\n"
     ]
    },
    {
     "name": "stderr",
     "output_type": "stream",
     "text": [
      "100%|█████████████████████████████████████████| 519/519 [00:10<00:00, 47.65it/s]\n"
     ]
    },
    {
     "name": "stdout",
     "output_type": "stream",
     "text": [
      "creating labeled image...\n",
      "processed patch #6 out of 6 patches\n"
     ]
    },
    {
     "name": "stderr",
     "output_type": "stream",
     "text": [
      "4753it [00:02, 2320.82it/s]\n",
      "100%|█████████████████████████████████████████| 331/331 [00:54<00:00,  6.11it/s]"
     ]
    },
    {
     "name": "stdout",
     "output_type": "stream",
     "text": [
      "CPU times: user 30min 20s, sys: 8min 36s, total: 38min 56s\n",
      "Wall time: 20min 37s\n"
     ]
    },
    {
     "name": "stderr",
     "output_type": "stream",
     "text": [
      "\n"
     ]
    }
   ],
   "source": [
    "from PIL import Image\n",
    "\n",
    "Image.MAX_IMAGE_PIXELS = None  # needed if working with very large images\n",
    "fname = \"./examples/mair_et_al_L2_DJI_0382/mair_et_al_L2_DJI_0382_image.jpg\"\n",
    "all_grains, image_pred, all_coords = seg.predict_large_image(\n",
    "    fname, unet, sam, min_area=400.0, patch_size=2000, overlap=200\n",
    ")"
   ]
  },
  {
   "cell_type": "code",
   "execution_count": 57,
   "id": "d1e52b04-e54e-44e6-8061-b8d0c0c76970",
   "metadata": {
    "execution": {
     "iopub.execute_input": "2025-04-23T23:29:02.774890Z",
     "iopub.status.busy": "2025-04-23T23:29:02.774550Z",
     "iopub.status.idle": "2025-04-23T23:29:16.893073Z",
     "shell.execute_reply": "2025-04-23T23:29:16.892712Z",
     "shell.execute_reply.started": "2025-04-23T23:29:02.774863Z"
    }
   },
   "outputs": [
    {
     "name": "stderr",
     "output_type": "stream",
     "text": [
      "100%|██████████████████████████████████████| 4399/4399 [00:13<00:00, 322.04it/s]\n"
     ]
    }
   ],
   "source": [
    "# plot results\n",
    "image = np.array(load_img(fname))\n",
    "fig, ax = plt.subplots(figsize=(15, 10))\n",
    "plt.xticks([])\n",
    "plt.yticks([])\n",
    "seg.plot_image_w_colorful_grains(image, all_grains, ax, cmap=\"Paired\")\n",
    "plt.axis(\"equal\")\n",
    "plt.xlim([0, np.shape(image)[1]])\n",
    "plt.ylim([np.shape(image)[0], 0]);"
   ]
  },
  {
   "cell_type": "code",
   "execution_count": 24,
   "id": "4dae73a8-f9ce-4fb9-8661-19d4c03340f3",
   "metadata": {},
   "outputs": [],
   "source": [
    "# this is a faster way of deleting false positives (because it avoids highlighting and deleting the 'bad' grains)\n",
    "grain_inds = []\n",
    "cid1 = fig.canvas.mpl_connect(\n",
    "    \"button_press_event\",\n",
    "    lambda event: seg.onclick2(event, all_grains, grain_inds, ax=ax, select_only=True),\n",
    ")"
   ]
  },
  {
   "cell_type": "code",
   "execution_count": 25,
   "id": "98b9650b-c6d9-4c23-85cc-b0234f3d2b2b",
   "metadata": {},
   "outputs": [
    {
     "name": "stderr",
     "output_type": "stream",
     "text": [
      "0it [00:00, ?it/s]\n"
     ]
    }
   ],
   "source": [
    "# delete polygons from 'all_grains'\n",
    "grain_inds = np.unique(grain_inds)\n",
    "grain_inds = sorted(grain_inds, reverse=True)\n",
    "for ind in tqdm(grain_inds):\n",
    "    all_grains.remove(all_grains[ind])"
   ]
  },
  {
   "cell_type": "markdown",
   "id": "74b9e579-8c81-4baf-9262-eb4b1584c646",
   "metadata": {},
   "source": [
    "After plotting the results, you will want to use the functions for deleting, merging, and adding grains (see above), before saving the results (same workflow as for a small image)."
   ]
  },
  {
   "cell_type": "code",
   "execution_count": 58,
   "id": "fddc2b90-0132-43de-9178-3d1ba966a1cf",
   "metadata": {
    "execution": {
     "iopub.execute_input": "2025-04-23T23:31:15.821165Z",
     "iopub.status.busy": "2025-04-23T23:31:15.820805Z",
     "iopub.status.idle": "2025-04-23T23:31:29.292670Z",
     "shell.execute_reply": "2025-04-23T23:31:29.292276Z",
     "shell.execute_reply.started": "2025-04-23T23:31:15.821139Z"
    }
   },
   "outputs": [
    {
     "name": "stderr",
     "output_type": "stream",
     "text": [
      "100%|██████████████████████████████████████| 4399/4399 [00:07<00:00, 567.78it/s]\n",
      "4399it [00:01, 2800.52it/s]\n"
     ]
    }
   ],
   "source": [
    "all_grains, labels, mask_all = seg.get_grains_from_patches(ax, image)"
   ]
  },
  {
   "cell_type": "code",
   "execution_count": 59,
   "id": "729db965-c9ec-48df-a44d-6a2c5838ce6e",
   "metadata": {
    "execution": {
     "iopub.execute_input": "2025-04-23T23:31:47.764308Z",
     "iopub.status.busy": "2025-04-23T23:31:47.763937Z",
     "iopub.status.idle": "2025-04-23T23:31:47.824535Z",
     "shell.execute_reply": "2025-04-23T23:31:47.824135Z",
     "shell.execute_reply.started": "2025-04-23T23:31:47.764263Z"
    }
   },
   "outputs": [
    {
     "data": {
      "text/plain": [
       "True"
      ]
     },
     "execution_count": 59,
     "metadata": {},
     "output_type": "execute_result"
    }
   ],
   "source": [
    "dirname = \"./examples/mair_et_al_L2_DJI_0382/\"\n",
    "# write grayscale mask to PNG file\n",
    "cv2.imwrite(dirname + fname.split(\"/\")[-1][:-4] + \"_mask.png\", mask_all)\n",
    "# Save the image as a PNG file\n",
    "cv2.imwrite(\n",
    "    dirname + fname.split(\"/\")[-1][:-4] + \"_image.png\",\n",
    "    cv2.cvtColor(image, cv2.COLOR_BGR2RGB),\n",
    ")"
   ]
  },
  {
   "cell_type": "markdown",
   "id": "d25703e4-2a4e-4e98-aa49-ff9b816b2ec0",
   "metadata": {},
   "source": [
    "### Finetuning the base model"
   ]
  },
  {
   "cell_type": "code",
   "execution_count": null,
   "id": "396f62c8-be0f-47fe-b660-2c55e2d51d42",
   "metadata": {},
   "outputs": [],
   "source": [
    "# patchify images and masks\n",
    "input_dir = \"./examples/unet_training/Masks_and_images/\"  # the input directory should contain files with 'image' and 'mask' in their filenames\n",
    "patch_dir = (\n",
    "    \"./examples/unet_training/\"  # a directory called \"Patches\" will be created here\n",
    ")\n",
    "image_dir, mask_dir = seg.patchify_training_data(input_dir, patch_dir)"
   ]
  },
  {
   "cell_type": "code",
   "execution_count": null,
   "id": "05f98137-2dfd-4b88-8dc5-e4e79fa343ad",
   "metadata": {},
   "outputs": [],
   "source": [
    "# create training, validation, and test datasets\n",
    "train_dataset, val_dataset, test_dataset = seg.create_train_val_test_data(\n",
    "    image_dir, mask_dir, augmentation=True\n",
    ")"
   ]
  },
  {
   "cell_type": "code",
   "execution_count": null,
   "id": "43650ad9-c2e5-4fc2-856f-4f39b8f1d9e3",
   "metadata": {},
   "outputs": [],
   "source": [
    "# load base model weights and train the model with the new data\n",
    "model = seg.create_and_train_model(\n",
    "    train_dataset,\n",
    "    val_dataset,\n",
    "    test_dataset,\n",
    "    model_file=\"./models/seg_model.keras\",\n",
    "    epochs=100,\n",
    ")"
   ]
  },
  {
   "cell_type": "code",
   "execution_count": null,
   "id": "41375c1f-5f16-496f-b5e8-497626eb89dc",
   "metadata": {},
   "outputs": [],
   "source": [
    "# save finetuned model as new model (this then can be loaded using \"model = load_model(\"new_model.keras\", custom_objects={'weighted_crossentropy': seg.weighted_crossentropy})\"\n",
    "model.save(\"./examples/unet_training/new_model.keras\")"
   ]
  }
 ],
 "metadata": {
  "kernelspec": {
   "display_name": "Python 3 (ipykernel)",
   "language": "python",
   "name": "python3"
  },
  "language_info": {
   "codemirror_mode": {
    "name": "ipython",
    "version": 3
   },
   "file_extension": ".py",
   "mimetype": "text/x-python",
   "name": "python",
   "nbconvert_exporter": "python",
   "pygments_lexer": "ipython3",
   "version": "3.9.23"
  }
 },
 "nbformat": 4,
 "nbformat_minor": 5
}
