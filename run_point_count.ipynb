{
 "cells": [
  {
   "cell_type": "code",
   "execution_count": null,
   "metadata": {},
   "outputs": [],
   "source": [
    "# Imports\n",
    "import matplotlib.pyplot as plt\n",
    "import numpy as np\n",
    "import segmenteverygrain.interactions as si\n",
    "import shapely"
   ]
  },
  {
   "cell_type": "code",
   "execution_count": null,
   "metadata": {},
   "outputs": [],
   "source": [
    "# Params\n",
    "FIGURE_DPI = 72     # dots/inch\n",
    "PX_PER_M = 1        # px/m; be sure not to convert units twice!!\n",
    "SPACING = 220       # px"
   ]
  },
  {
   "cell_type": "code",
   "execution_count": null,
   "metadata": {},
   "outputs": [],
   "source": [
    "# Load image\n",
    "fn = 'torrey_pines_beach_image.jpeg'\n",
    "image = si.load_image(fn)\n",
    "img_y, img_x = image.shape[:2]"
   ]
  },
  {
   "cell_type": "code",
   "execution_count": null,
   "metadata": {},
   "outputs": [],
   "source": [
    "# Load grains\n",
    "fn = './output/test_edit_grains.csv'\n",
    "grains = si.load_grains(fn)"
   ]
  },
  {
   "cell_type": "code",
   "execution_count": null,
   "metadata": {},
   "outputs": [],
   "source": [
    "# Find and measure grains according to a grid\n",
    "points, xs, ys = si.make_grid(image, SPACING)\n",
    "grains, points_found = si.filter_grains_by_points(grains, points)\n",
    "for g in grains:\n",
    "    g.measure(image=image)"
   ]
  },
  {
   "cell_type": "code",
   "execution_count": null,
   "metadata": {},
   "outputs": [],
   "source": [
    "# Get GrainPlot as a static image\n",
    "plot = si.GrainPlot(grains, image, \n",
    "    figsize=(img_x/FIGURE_DPI, img_y/FIGURE_DPI), \n",
    "    dpi=FIGURE_DPI,\n",
    "    image_alpha=0.5)\n",
    "plot_image = np.asarray(plot.canvas.buffer_rgba(), dtype=np.uint8)\n",
    "\n",
    "# Make new plot using static GrainPlot image as background\n",
    "fig = plt.figure(\n",
    "    figsize=(img_x/FIGURE_DPI, img_y/FIGURE_DPI),\n",
    "    dpi=FIGURE_DPI)\n",
    "ax = fig.add_subplot()\n",
    "ax.imshow(plot_image, aspect='equal', origin='lower')\n",
    "ax.autoscale(enable=False)\n",
    "\n",
    "# Plot axes\n",
    "for grain in grains:\n",
    "    grain.rescale(1 / plot.scale)\n",
    "    grain.draw_axes(ax)\n",
    "\n",
    "# Plot grid points\n",
    "point_colors = ['lime' if p else 'red' for p in points_found]\n",
    "ax.scatter(xs, ys,\n",
    "    s=min(plot_image[:2].shape) * FIGURE_DPI,\n",
    "    c=point_colors,\n",
    "    edgecolors='black')"
   ]
  },
  {
   "cell_type": "code",
   "execution_count": null,
   "metadata": {},
   "outputs": [],
   "source": [
    "# Save results\n",
    "fn = './output/test_count'\n",
    "# Grain shapes\n",
    "si.save_grains(fn + '_grains.csv', grains)\n",
    "# Grain image\n",
    "fig.savefig(fn + '_grains.jpg', bbox_inches='tight', pad_inches=0.2)\n",
    "# Summary data\n",
    "si.save_summary(fn + '_summary.csv', grains, px_per_m=PX_PER_M)\n",
    "# Summary histogram\n",
    "si.save_histogram(fn + '_summary.jpg', grains, px_per_m=PX_PER_M)"
   ]
  }
 ],
 "metadata": {
  "kernelspec": {
   "display_name": "segmenteverygrain",
   "language": "python",
   "name": "python3"
  },
  "language_info": {
   "name": "python",
   "version": "3.9.20"
  }
 },
 "nbformat": 4,
 "nbformat_minor": 2
}
