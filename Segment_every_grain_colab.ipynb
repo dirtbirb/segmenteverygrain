{
  "cells": [
    {
      "cell_type": "markdown",
      "id": "0",
      "metadata": {
        "id": "0"
      },
      "source": [
        "# Segment Every Grain\n",
        "\n",
        "A SAM-based model for instance segmentation of images of grains"
      ]
    },
    {
      "cell_type": "markdown",
      "id": "1",
      "metadata": {
        "id": "1"
      },
      "source": [
        "<a target=\"_blank\" href=\"https://colab.research.google.com/github/zsylvester/segmenteverygrain/blob/main/Segment_every_grain_colab.ipynb\">\n",
        "  <img src=\"https://colab.research.google.com/assets/colab-badge.svg\" alt=\"Open In Colab\"/>\n",
        "</a>"
      ]
    },
    {
      "cell_type": "markdown",
      "id": "2",
      "metadata": {
        "id": "2"
      },
      "source": [
        "## Install and import packages"
      ]
    },
    {
      "cell_type": "markdown",
      "source": [
        "### Set up interactive figure backend in Colab"
      ],
      "metadata": {
        "id": "tcFFwY-BUub2"
      },
      "id": "tcFFwY-BUub2"
    },
    {
      "cell_type": "code",
      "source": [
        "# this is needed to make figures in Colab interactive\n",
        "!pip install ipympl\n",
        "exit(0) # this restarts the runtime after installing ipympl -- otherwise you get an error when switching the matplotlib backend to ipympl"
      ],
      "metadata": {
        "id": "E2HCqcJ2T_Be"
      },
      "id": "E2HCqcJ2T_Be",
      "execution_count": null,
      "outputs": []
    },
    {
      "cell_type": "code",
      "source": [
        "from google.colab import output\n",
        "\n",
        "output.enable_custom_widget_manager()"
      ],
      "metadata": {
        "id": "EBt6LiVJUDsa"
      },
      "id": "EBt6LiVJUDsa",
      "execution_count": 1,
      "outputs": []
    },
    {
      "cell_type": "code",
      "source": [
        "%matplotlib ipympl"
      ],
      "metadata": {
        "id": "m0LqtHYxUGNX"
      },
      "id": "m0LqtHYxUGNX",
      "execution_count": 2,
      "outputs": []
    },
    {
      "cell_type": "markdown",
      "source": [
        "### Install the other dependencies"
      ],
      "metadata": {
        "id": "h5ERlibnUze-"
      },
      "id": "h5ERlibnUze-"
    },
    {
      "cell_type": "code",
      "execution_count": 4,
      "id": "3",
      "metadata": {
        "colab": {
          "base_uri": "https://localhost:8080/"
        },
        "id": "3",
        "jupyter": {
          "outputs_hidden": true
        },
        "outputId": "4e237a61-d102-4eb6-b422-a0314419a2a2"
      },
      "outputs": [
        {
          "output_type": "stream",
          "name": "stdout",
          "text": [
            "--2025-06-17 14:35:48--  https://dl.fbaipublicfiles.com/segment_anything/sam_vit_h_4b8939.pth\n",
            "Resolving dl.fbaipublicfiles.com (dl.fbaipublicfiles.com)... 3.169.149.41, 3.169.149.5, 3.169.149.36, ...\n",
            "Connecting to dl.fbaipublicfiles.com (dl.fbaipublicfiles.com)|3.169.149.41|:443... connected.\n",
            "HTTP request sent, awaiting response... 200 OK\n",
            "Length: 2564550879 (2.4G) [binary/octet-stream]\n",
            "Saving to: ‘sam_vit_h_4b8939.pth’\n",
            "\n",
            "sam_vit_h_4b8939.pt 100%[===================>]   2.39G   309MB/s    in 8.1s    \n",
            "\n",
            "2025-06-17 14:35:56 (304 MB/s) - ‘sam_vit_h_4b8939.pth’ saved [2564550879/2564550879]\n",
            "\n"
          ]
        }
      ],
      "source": [
        "import torch\n",
        "import torchvision\n",
        "\n",
        "print(\"PyTorch version:\", torch.__version__)\n",
        "print(\"Torchvision version:\", torchvision.__version__)\n",
        "print(\"CUDA is available:\", torch.cuda.is_available())\n",
        "import sys\n",
        "\n",
        "!{sys.executable} -m pip install opencv-python matplotlib\n",
        "!{sys.executable} -m pip install 'git+https://github.com/facebookresearch/segment-anything.git'\n",
        "!{sys.executable} -m pip install segmenteverygrain\n",
        "pip install rtree\n",
        "!wget https://dl.fbaipublicfiles.com/segment_anything/sam_vit_h_4b8939.pth"
      ]
    },
    {
      "cell_type": "code",
      "execution_count": 5,
      "id": "4",
      "metadata": {
        "id": "4"
      },
      "outputs": [],
      "source": [
        "from segment_anything import sam_model_registry, SamPredictor\n",
        "\n",
        "sam_checkpoint = \"sam_vit_h_4b8939.pth\"\n",
        "device = \"cuda\"\n",
        "model_type = \"default\"\n",
        "\n",
        "sam = sam_model_registry[model_type](checkpoint=sam_checkpoint)\n",
        "sam.to(device=device)\n",
        "predictor = SamPredictor(sam)"
      ]
    },
    {
      "cell_type": "code",
      "execution_count": 7,
      "id": "6",
      "metadata": {
        "id": "6"
      },
      "outputs": [],
      "source": [
        "import pandas as pd\n",
        "import numpy as np\n",
        "import matplotlib.pyplot as plt\n",
        "import cv2\n",
        "from skimage import measure\n",
        "from keras.utils import load_img\n",
        "from keras.saving import load_model\n",
        "from importlib import reload\n",
        "import segmenteverygrain as seg\n",
        "from tqdm import trange"
      ]
    },
    {
      "cell_type": "markdown",
      "id": "7",
      "metadata": {
        "id": "7"
      },
      "source": [
        "## Download Unet model weights and create Unet model"
      ]
    },
    {
      "cell_type": "code",
      "execution_count": 8,
      "id": "8",
      "metadata": {
        "colab": {
          "base_uri": "https://localhost:8080/"
        },
        "id": "8",
        "outputId": "da0feadc-c7ad-46ed-e145-e465d5191386"
      },
      "outputs": [
        {
          "output_type": "stream",
          "name": "stdout",
          "text": [
            "--2025-06-17 14:37:02--  https://raw.githubusercontent.com/zsylvester/segmenteverygrain/main/models/seg_model.keras\n",
            "Resolving raw.githubusercontent.com (raw.githubusercontent.com)... 185.199.108.133, 185.199.109.133, 185.199.110.133, ...\n",
            "Connecting to raw.githubusercontent.com (raw.githubusercontent.com)|185.199.108.133|:443... connected.\n",
            "HTTP request sent, awaiting response... 200 OK\n",
            "Length: 26139262 (25M) [application/octet-stream]\n",
            "Saving to: ‘seg_model.keras’\n",
            "\n",
            "seg_model.keras     100%[===================>]  24.93M   152MB/s    in 0.2s    \n",
            "\n",
            "2025-06-17 14:37:02 (152 MB/s) - ‘seg_model.keras’ saved [26139262/26139262]\n",
            "\n"
          ]
        }
      ],
      "source": [
        "!wget \"https://raw.githubusercontent.com/zsylvester/segmenteverygrain/main/models/seg_model.keras\""
      ]
    },
    {
      "cell_type": "code",
      "execution_count": 9,
      "id": "9",
      "metadata": {
        "id": "9"
      },
      "outputs": [],
      "source": [
        "# UNET model\n",
        "unet = load_model(\n",
        "    \"seg_model.keras\",\n",
        "    custom_objects={\"weighted_crossentropy\": seg.weighted_crossentropy},\n",
        ")"
      ]
    },
    {
      "cell_type": "markdown",
      "id": "14",
      "metadata": {
        "id": "14"
      },
      "source": [
        "## Run segmentation\n",
        "\n",
        "Grains are supposed to be well defined in the image; e.g., if a grain consists of only a few pxiels, it is unlikely to be detected.\n",
        "\n",
        "The segmentation can take a few minutes even for medium-sized images, so do not start with large images (downsample them if necessary)."
      ]
    },
    {
      "cell_type": "code",
      "execution_count": 10,
      "id": "15",
      "metadata": {
        "colab": {
          "base_uri": "https://localhost:8080/"
        },
        "id": "15",
        "outputId": "0c460172-96cb-40a8-9cd6-c6c590076283"
      },
      "outputs": [
        {
          "output_type": "stream",
          "name": "stdout",
          "text": [
            "--2025-06-17 14:38:21--  https://raw.githubusercontent.com/zsylvester/segmenteverygrain/main/examples/barton_creek/barton_creek_image.jpg\n",
            "Resolving raw.githubusercontent.com (raw.githubusercontent.com)... 185.199.108.133, 185.199.109.133, 185.199.111.133, ...\n",
            "Connecting to raw.githubusercontent.com (raw.githubusercontent.com)|185.199.108.133|:443... connected.\n",
            "HTTP request sent, awaiting response... 200 OK\n",
            "Length: 1451152 (1.4M) [image/jpeg]\n",
            "Saving to: ‘barton_creek_image.jpg’\n",
            "\n",
            "\rbarton_creek_image.   0%[                    ]       0  --.-KB/s               \rbarton_creek_image. 100%[===================>]   1.38M  --.-KB/s    in 0.07s   \n",
            "\n",
            "2025-06-17 14:38:21 (20.2 MB/s) - ‘barton_creek_image.jpg’ saved [1451152/1451152]\n",
            "\n"
          ]
        }
      ],
      "source": [
        "# get example image\n",
        "!wget \"https://raw.githubusercontent.com/zsylvester/segmenteverygrain/main/examples/barton_creek/barton_creek_image.jpg\""
      ]
    },
    {
      "cell_type": "code",
      "execution_count": 11,
      "id": "16",
      "metadata": {
        "colab": {
          "base_uri": "https://localhost:8080/"
        },
        "id": "16",
        "outputId": "5877449a-6e2b-4554-95c0-5310b5b477d6"
      },
      "outputs": [
        {
          "output_type": "stream",
          "name": "stdout",
          "text": [
            "segmenting image tiles...\n"
          ]
        },
        {
          "output_type": "stream",
          "name": "stderr",
          "text": [
            "100%|██████████| 9/9 [00:08<00:00,  1.04it/s]\n",
            "100%|██████████| 8/8 [00:05<00:00,  1.45it/s]\n"
          ]
        }
      ],
      "source": [
        "# replace this with the path to your image:\n",
        "fname = \"barton_creek_image.jpg\"\n",
        "image = np.array(load_img(fname))\n",
        "image_pred = seg.predict_image(image, unet, I=256)\n",
        "\n",
        "# decreasing the 'dbs_max_dist' parameter results in more SAM prompts\n",
        "# (and longer processing times):\n",
        "labels, coords = seg.label_grains(image, image_pred, dbs_max_dist=20.0)"
      ]
    },
    {
      "cell_type": "code",
      "execution_count": null,
      "id": "17",
      "metadata": {
        "id": "17"
      },
      "outputs": [],
      "source": [
        "fig, ax = plt.subplots(figsize=(8, 6))\n",
        "ax.imshow(image_pred)\n",
        "plt.scatter(np.array(coords)[:, 0], np.array(coords)[:, 1], c=\"k\")\n",
        "plt.xticks([])\n",
        "plt.yticks([]);"
      ]
    },
    {
      "cell_type": "code",
      "execution_count": null,
      "id": "18",
      "metadata": {
        "id": "18"
      },
      "outputs": [],
      "source": [
        "# SAM segmentation, using the point prompts from the Unet:\n",
        "all_grains, labels, mask_all, grain_data, fig, ax = seg.sam_segmentation(\n",
        "    sam,\n",
        "    image,\n",
        "    image_pred,\n",
        "    coords,\n",
        "    labels,\n",
        "    min_area=400.0,\n",
        "    plot_image=True,\n",
        "    remove_edge_grains=False,\n",
        "    remove_large_objects=False,\n",
        ")"
      ]
    },
    {
      "cell_type": "markdown",
      "id": "19",
      "metadata": {
        "id": "19"
      },
      "source": [
        "## Delete or merge grains in segmentation result\n",
        "* click on the grain that you want to remove and press the 'x' key\n",
        "* click on two grains that you want to merge and press the 'm' key (they have to be the last two grains you clicked on)"
      ]
    },
    {
      "cell_type": "code",
      "execution_count": null,
      "id": "20",
      "metadata": {
        "id": "20"
      },
      "outputs": [],
      "source": [
        "grain_inds = []\n",
        "cid1 = fig.canvas.mpl_connect(\n",
        "    \"button_press_event\",\n",
        "    lambda event: seg.onclick2(event, all_grains, grain_inds, ax=ax),\n",
        ")\n",
        "cid2 = fig.canvas.mpl_connect(\n",
        "    \"key_press_event\",\n",
        "    lambda event: seg.onpress2(event, all_grains, grain_inds, fig=fig, ax=ax),\n",
        ")"
      ]
    },
    {
      "cell_type": "markdown",
      "id": "21",
      "metadata": {
        "id": "21"
      },
      "source": [
        "Run this cell if you do not want to delete / merge existing grains anymore; it is a good idea to do this before moving on to the next step."
      ]
    },
    {
      "cell_type": "code",
      "execution_count": null,
      "id": "22",
      "metadata": {
        "id": "22"
      },
      "outputs": [],
      "source": [
        "fig.canvas.mpl_disconnect(cid1)\n",
        "fig.canvas.mpl_disconnect(cid2)"
      ]
    },
    {
      "cell_type": "code",
      "execution_count": null,
      "id": "23",
      "metadata": {
        "id": "23"
      },
      "outputs": [],
      "source": [
        "# Use this function to update the 'labels' array after deleting and merging grains\n",
        "# (the 'all_grains' list is updated when doing the deletion and merging):\n",
        "all_grains, labels, mask_all = seg.get_grains_from_patches(ax, image)"
      ]
    },
    {
      "cell_type": "code",
      "execution_count": null,
      "id": "24",
      "metadata": {
        "id": "24"
      },
      "outputs": [],
      "source": [
        "# plot the updated set of grains\n",
        "fig, ax = plt.subplots(figsize=(8, 6))\n",
        "plt.xticks([])\n",
        "plt.yticks([])\n",
        "seg.plot_image_w_colorful_grains(image, all_grains, ax, cmap=\"Paired\", plot_image=True)\n",
        "seg.plot_grain_axes_and_centroids(all_grains, labels, ax, linewidth=1, markersize=10)\n",
        "plt.xlim([0, np.shape(image)[1]])\n",
        "plt.ylim([np.shape(image)[0], 0]);"
      ]
    },
    {
      "cell_type": "markdown",
      "id": "25",
      "metadata": {
        "id": "25"
      },
      "source": [
        "## Add new grains using the Segment Anything Model\n",
        "\n",
        "* click on unsegmented grain that you want to add\n",
        "* press the 'x' key if you want to delete the last grain you added\n",
        "* press the 'm' key if you want to merge the last two grains that you added\n",
        "* right click outside the grain (but inside the most recent mask) if you want to restrict the grain to a smaller mask - this adds a background prompt"
      ]
    },
    {
      "cell_type": "code",
      "execution_count": null,
      "id": "26",
      "metadata": {
        "id": "26"
      },
      "outputs": [],
      "source": [
        "predictor = SamPredictor(sam)\n",
        "predictor.set_image(image)  # this can take a while\n",
        "coords = []\n",
        "cid3 = fig.canvas.mpl_connect(\n",
        "    \"button_press_event\", lambda event: seg.onclick(event, ax, coords, image, predictor)\n",
        ")\n",
        "cid4 = fig.canvas.mpl_connect(\n",
        "    \"key_press_event\", lambda event: seg.onpress(event, ax, fig)\n",
        ")"
      ]
    },
    {
      "cell_type": "code",
      "execution_count": null,
      "id": "27",
      "metadata": {
        "id": "27"
      },
      "outputs": [],
      "source": [
        "fig.canvas.mpl_disconnect(cid3)\n",
        "fig.canvas.mpl_disconnect(cid4)"
      ]
    },
    {
      "cell_type": "markdown",
      "id": "28",
      "metadata": {
        "id": "28"
      },
      "source": [
        "After you are done with the deletion / addition of grain masks, run this cell to generate an updated set of grains:"
      ]
    },
    {
      "cell_type": "code",
      "execution_count": null,
      "id": "29",
      "metadata": {
        "id": "29"
      },
      "outputs": [],
      "source": [
        "all_grains, labels, mask_all = seg.get_grains_from_patches(ax, image)"
      ]
    },
    {
      "cell_type": "markdown",
      "id": "30",
      "metadata": {
        "id": "30"
      },
      "source": [
        "## Get grain size distribution"
      ]
    },
    {
      "cell_type": "markdown",
      "id": "31",
      "metadata": {
        "id": "31"
      },
      "source": [
        "Run this cell and then click (left mouse button) on one end of the scale bar in the image and click (right mouse button) on the other end of the scale bar:"
      ]
    },
    {
      "cell_type": "code",
      "execution_count": null,
      "id": "32",
      "metadata": {
        "id": "32"
      },
      "outputs": [],
      "source": [
        "cid5 = fig.canvas.mpl_connect(\n",
        "    \"button_press_event\", lambda event: seg.click_for_scale(event, ax)\n",
        ")"
      ]
    },
    {
      "cell_type": "markdown",
      "id": "33",
      "metadata": {
        "id": "33"
      },
      "source": [
        "Use the length of the scale bar in pixels (it should be printed below the image) to get the scale of the image (in units / pixel):"
      ]
    },
    {
      "cell_type": "code",
      "execution_count": null,
      "id": "34",
      "metadata": {
        "id": "34"
      },
      "outputs": [],
      "source": [
        "n_of_units = 10.0  # centimeters if using 'barton_creek_image.jpg'\n",
        "units_per_pixel = n_of_units / 374.26  # length of scale bar in pixels"
      ]
    },
    {
      "cell_type": "code",
      "execution_count": null,
      "id": "35",
      "metadata": {
        "id": "35"
      },
      "outputs": [],
      "source": [
        "from skimage.measure import regionprops, regionprops_table\n",
        "\n",
        "props = regionprops_table(\n",
        "    labels.astype(\"int\"),\n",
        "    intensity_image=image,\n",
        "    properties=(\n",
        "        \"label\",\n",
        "        \"area\",\n",
        "        \"centroid\",\n",
        "        \"major_axis_length\",\n",
        "        \"minor_axis_length\",\n",
        "        \"orientation\",\n",
        "        \"perimeter\",\n",
        "        \"max_intensity\",\n",
        "        \"mean_intensity\",\n",
        "        \"min_intensity\",\n",
        "    ),\n",
        ")\n",
        "grain_data = pd.DataFrame(props)\n",
        "grain_data[\"major_axis_length\"] = (\n",
        "    grain_data[\"major_axis_length\"].values * units_per_pixel\n",
        ")\n",
        "grain_data[\"minor_axis_length\"] = (\n",
        "    grain_data[\"minor_axis_length\"].values * units_per_pixel\n",
        ")\n",
        "grain_data[\"perimeter\"] = grain_data[\"perimeter\"].values * units_per_pixel\n",
        "grain_data[\"area\"] = grain_data[\"area\"].values * units_per_pixel**2\n",
        "grain_data.head()"
      ]
    },
    {
      "cell_type": "code",
      "execution_count": null,
      "id": "36",
      "metadata": {
        "id": "36"
      },
      "outputs": [],
      "source": [
        "grain_data.to_csv(fname[:-4] + \".csv\")  # save grain data to CSV file"
      ]
    },
    {
      "cell_type": "code",
      "execution_count": null,
      "id": "37",
      "metadata": {
        "id": "37"
      },
      "outputs": [],
      "source": [
        "# plot histogram of grain axis lengths\n",
        "# note that input data needs to be in milimeters!\n",
        "# these limits are for 'barton_creek_image.jpg'\n",
        "fig, ax = seg.plot_histogram_of_axis_lengths(\n",
        "    grain_data[\"major_axis_length\"] * 10,\n",
        "    grain_data[\"minor_axis_length\"] * 10,\n",
        "    binsize=0.4,\n",
        "    xlimits=[2, 128],\n",
        ")"
      ]
    },
    {
      "cell_type": "markdown",
      "id": "38",
      "metadata": {
        "id": "38"
      },
      "source": [
        "## Save mask and grain labels to PNG files"
      ]
    },
    {
      "cell_type": "code",
      "execution_count": null,
      "id": "39",
      "metadata": {
        "id": "39"
      },
      "outputs": [],
      "source": [
        "# write grayscale mask to PNG file\n",
        "cv2.imwrite(fname.split(\"/\")[-1][:-4] + \"_mask.png\", mask_all)\n",
        "# Define a colormap using matplotlib\n",
        "num_classes = len(all_grains)\n",
        "cmap = plt.get_cmap(\"viridis\", num_classes)\n",
        "# Map each class label to a unique color using the colormap\n",
        "vis_mask = cmap(labels.astype(np.uint16))[:, :, :3] * 255\n",
        "vis_mask = vis_mask.astype(np.uint8)\n",
        "# Save the mask as a PNG file\n",
        "cv2.imwrite(fname.split(\"/\")[-1][:-4] + \"_labels.png\", vis_mask)\n",
        "# Save the image as a PNG file\n",
        "cv2.imwrite(\n",
        "    fname.split(\"/\")[-1][:-4] + \"_image.png\", cv2.cvtColor(image, cv2.COLOR_BGR2RGB)\n",
        ")"
      ]
    },
    {
      "cell_type": "markdown",
      "id": "40",
      "metadata": {
        "id": "40"
      },
      "source": [
        "## Run segmentation on large image\n",
        "\n",
        "This function works with images that are larger than a few megapixels and have thousands of grains.\n",
        "The 'predict_large_image' function breaks the input image into smaller patches and it runs the segmentation process on each patch.\n",
        "\n",
        "The image used below (from [Mair et al., 2022, Earth Surface Dynamics](https://esurf.copernicus.org/articles/10/953/2022/)) is available [here](https://github.com/zsylvester/segmenteverygrain/blob/main/mair_et_al_L2_DJI_0382_image.jpg)."
      ]
    },
    {
      "cell_type": "code",
      "execution_count": null,
      "id": "41",
      "metadata": {
        "id": "41"
      },
      "outputs": [],
      "source": [
        "# get large example image\n",
        "!wget \"https://raw.githubusercontent.com/zsylvester/segmenteverygrain/main/examples/mair_et_al_L2_DJI_0382/mair_et_al_L2_DJI_0382_image.jpg\""
      ]
    },
    {
      "cell_type": "code",
      "execution_count": null,
      "id": "42",
      "metadata": {
        "id": "42"
      },
      "outputs": [],
      "source": [
        "from PIL import Image\n",
        "\n",
        "Image.MAX_IMAGE_PIXELS = None  # needed if working with very large images\n",
        "fname = \"mair_et_al_L2_DJI_0382_image.jpg\"\n",
        "all_grains, image_pred, all_coords = seg.predict_large_image(\n",
        "    fname, unet, sam, min_area=400.0, patch_size=2000, overlap=200\n",
        ")"
      ]
    },
    {
      "cell_type": "code",
      "execution_count": null,
      "id": "43",
      "metadata": {
        "id": "43"
      },
      "outputs": [],
      "source": [
        "# plot results\n",
        "image = np.array(load_img(fname))\n",
        "fig, ax = plt.subplots(figsize=(10, 8))\n",
        "plt.xticks([])\n",
        "plt.yticks([])\n",
        "seg.plot_image_w_colorful_grains(image, all_grains, ax, cmap=\"Paired\")"
      ]
    },
    {
      "cell_type": "code",
      "execution_count": null,
      "id": "44",
      "metadata": {
        "id": "44"
      },
      "outputs": [],
      "source": []
    }
  ],
  "metadata": {
    "accelerator": "GPU",
    "colab": {
      "gpuType": "A100",
      "machine_shape": "hm",
      "provenance": []
    },
    "gpuClass": "standard",
    "kernelspec": {
      "display_name": "Python 3 (ipykernel)",
      "language": "python",
      "name": "python3"
    },
    "language_info": {
      "codemirror_mode": {
        "name": "ipython",
        "version": 3
      },
      "file_extension": ".py",
      "mimetype": "text/x-python",
      "name": "python",
      "nbconvert_exporter": "python",
      "pygments_lexer": "ipython3",
      "version": "3.9.22"
    }
  },
  "nbformat": 4,
  "nbformat_minor": 5
}