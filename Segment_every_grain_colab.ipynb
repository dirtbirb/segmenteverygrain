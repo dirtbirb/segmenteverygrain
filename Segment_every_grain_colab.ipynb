{
 "cells": [
  {
   "cell_type": "markdown",
   "id": "0",
   "metadata": {
    "id": "hs2SM4JbM3ee"
   },
   "source": [
    "# Segment Every Grain\n",
    "\n",
    "A SAM-based model for instance segmentation of images of grains"
   ]
  },
  {
   "cell_type": "markdown",
   "id": "1",
   "metadata": {
    "id": "dm3i5z-1Mp9V"
   },
   "source": [
    "<a target=\"_blank\" href=\"https://colab.research.google.com/github/zsylvester/segmenteverygrain/blob/main/Segment_every_grain_colab.ipynb\">\n",
    "  <img src=\"https://colab.research.google.com/assets/colab-badge.svg\" alt=\"Open In Colab\"/>\n",
    "</a>"
   ]
  },
  {
   "cell_type": "markdown",
   "id": "2",
   "metadata": {
    "id": "J2eWVXkhLuM4"
   },
   "source": [
    "## Install and import packages"
   ]
  },
  {
   "cell_type": "code",
   "execution_count": null,
   "id": "3",
   "metadata": {
    "colab": {
     "base_uri": "https://localhost:8080/"
    },
    "id": "35JVuR8ipGWL",
    "jupyter": {
     "outputs_hidden": true
    },
    "outputId": "67051f14-5317-4463-fa94-f693ec67ef3f"
   },
   "outputs": [],
   "source": [
    "import torch\n",
    "import torchvision\n",
    "\n",
    "print(\"PyTorch version:\", torch.__version__)\n",
    "print(\"Torchvision version:\", torchvision.__version__)\n",
    "print(\"CUDA is available:\", torch.cuda.is_available())\n",
    "import sys\n",
    "\n",
    "!{sys.executable} -m pip install opencv-python matplotlib\n",
    "!{sys.executable} -m pip install 'git+https://github.com/facebookresearch/segment-anything.git'\n",
    "!{sys.executable} -m pip install segmenteverygrain\n",
    "# !wget https://dl.fbaipublicfiles.com/segment_anything/sam_vit_h_4b8939.pth"
   ]
  },
  {
   "cell_type": "code",
   "execution_count": null,
   "id": "4",
   "metadata": {
    "id": "E3DF8R06pgrq"
   },
   "outputs": [],
   "source": [
    "from segment_anything import sam_model_registry, SamPredictor\n",
    "\n",
    "sam_checkpoint = \"sam_vit_h_4b8939.pth\"\n",
    "device = \"cuda\"\n",
    "model_type = \"default\"\n",
    "\n",
    "sam = sam_model_registry[model_type](checkpoint=sam_checkpoint)\n",
    "sam.to(device=device)\n",
    "predictor = SamPredictor(sam)"
   ]
  },
  {
   "cell_type": "code",
   "execution_count": null,
   "id": "5",
   "metadata": {
    "colab": {
     "base_uri": "https://localhost:8080/"
    },
    "id": "46-lnnYU7LzY",
    "outputId": "7da79dfa-386e-47cb-8d16-7f3044c4474d"
   },
   "outputs": [],
   "source": [
    "pip install rtree"
   ]
  },
  {
   "cell_type": "code",
   "execution_count": null,
   "id": "6",
   "metadata": {
    "id": "f2ebc518"
   },
   "outputs": [],
   "source": [
    "import pandas as pd\n",
    "import numpy as np\n",
    "import matplotlib.pyplot as plt\n",
    "import cv2\n",
    "from skimage import measure\n",
    "from keras.utils import load_img\n",
    "from keras.saving import load_model\n",
    "from importlib import reload\n",
    "import segmenteverygrain as seg\n",
    "from tqdm import trange"
   ]
  },
  {
   "cell_type": "markdown",
   "id": "7",
   "metadata": {
    "id": "WMGGleWCLp4v"
   },
   "source": [
    "## Download Unet model weights and create Unet model\n",
    "\n",
    "(there must be an easier way of doing this...)"
   ]
  },
  {
   "cell_type": "code",
   "execution_count": null,
   "id": "8",
   "metadata": {
    "colab": {
     "base_uri": "https://localhost:8080/"
    },
    "id": "UJXYJB217Tlm",
    "outputId": "ce69183d-07c5-4bcf-f954-259b9f756288"
   },
   "outputs": [],
   "source": [
    "!wget \"https://raw.githubusercontent.com/zsylvester/segmenteverygrain/main/models/seg_model.keras\""
   ]
  },
  {
   "cell_type": "code",
   "execution_count": null,
   "id": "9",
   "metadata": {
    "id": "fe1bd2bc"
   },
   "outputs": [],
   "source": [
    "# UNET model\n",
    "unet = load_model(\n",
    "    \"seg_model.keras\",\n",
    "    custom_objects={\"weighted_crossentropy\": seg.weighted_crossentropy},\n",
    ")"
   ]
  },
  {
   "cell_type": "markdown",
   "id": "10",
   "metadata": {
    "id": "mT0vxav6L-To"
   },
   "source": [
    "## Set up interactive figure backend in Colab"
   ]
  },
  {
   "cell_type": "code",
   "execution_count": null,
   "id": "11",
   "metadata": {
    "colab": {
     "base_uri": "https://localhost:8080/"
    },
    "id": "enBdcHxAIJ3l",
    "jupyter": {
     "outputs_hidden": true
    },
    "outputId": "4d980203-a26d-45b7-cf90-8f21671df345"
   },
   "outputs": [],
   "source": [
    "# this is needed to make figures in Colab interactive\n",
    "!pip install ipympl\n",
    "# you need to restart the runtime after installing ipympl -- otherwise you get an error when switching the matplotlib backend to ipympl"
   ]
  },
  {
   "cell_type": "code",
   "execution_count": null,
   "id": "12",
   "metadata": {
    "id": "Z4CdNkyDAadC"
   },
   "outputs": [],
   "source": [
    "from google.colab import output\n",
    "\n",
    "output.enable_custom_widget_manager()"
   ]
  },
  {
   "cell_type": "code",
   "execution_count": null,
   "id": "13",
   "metadata": {
    "id": "oov0fab3INzJ"
   },
   "outputs": [],
   "source": [
    "%matplotlib ipympl"
   ]
  },
  {
   "cell_type": "markdown",
   "id": "14",
   "metadata": {
    "id": "yWg5dBopL4Pl"
   },
   "source": [
    "## Run segmentation\n",
    "\n",
    "Grains are supposed to be well defined in the image; e.g., if a grain consists of only a few pxiels, it is unlikely to be detected.\n",
    "\n",
    "The segmentation can take a few minutes even for medium-sized images, so do not start with large images (downsample them if necessary)."
   ]
  },
  {
   "cell_type": "code",
   "execution_count": null,
   "id": "15",
   "metadata": {
    "colab": {
     "base_uri": "https://localhost:8080/"
    },
    "id": "Hx1TCqAYB1Qe",
    "outputId": "2ff7f85b-fc57-4a1f-c51e-176d89c43e7d"
   },
   "outputs": [],
   "source": [
    "# get example image\n",
    "!wget \"https://raw.githubusercontent.com/zsylvester/segmenteverygrain/main/examples/barton_creek/barton_creek_image.jpg\""
   ]
  },
  {
   "cell_type": "code",
   "execution_count": null,
   "id": "16",
   "metadata": {
    "colab": {
     "base_uri": "https://localhost:8080/"
    },
    "id": "94bf3f94",
    "outputId": "231ed7a6-3f46-4a7c-af3f-df511f0edcec"
   },
   "outputs": [],
   "source": [
    "# replace this with the path to your image:\n",
    "fname = \"barton_creek_image.jpg\"\n",
    "image = np.array(load_img(fname))\n",
    "image_pred = seg.predict_image(image, unet, I=256)\n",
    "\n",
    "# decreasing the 'dbs_max_dist' parameter results in more SAM prompts\n",
    "# (and longer processing times):\n",
    "labels, coords = seg.label_grains(image, image_pred, dbs_max_dist=20.0)"
   ]
  },
  {
   "cell_type": "code",
   "execution_count": null,
   "id": "17",
   "metadata": {
    "colab": {
     "base_uri": "https://localhost:8080/",
     "height": 689,
     "referenced_widgets": [
      "bdd9c06d77fe4c47bd419607d79bdc9f",
      "1c4e72fa3e1b4d7bb23a376fa9ef532d",
      "ba6766845d0b429fafc6ca4de4357b67",
      "91ef073f666b4f1fa51da06abc4c21e8"
     ]
    },
    "id": "X0gOWDO0CZ2V",
    "outputId": "469d8a07-0f91-4ff6-85d1-28a5a5e31248"
   },
   "outputs": [],
   "source": [
    "fig, ax = plt.subplots(figsize=(8, 6))\n",
    "ax.imshow(image_pred)\n",
    "plt.scatter(np.array(coords)[:, 0], np.array(coords)[:, 1], c=\"k\")\n",
    "plt.xticks([])\n",
    "plt.yticks([]);"
   ]
  },
  {
   "cell_type": "code",
   "execution_count": null,
   "id": "18",
   "metadata": {
    "colab": {
     "base_uri": "https://localhost:8080/",
     "height": 1000,
     "referenced_widgets": [
      "7b6a43bd0e134eef9356a6dd284d0655",
      "0a9a7a21f1e74238b7799a7e8773befc",
      "78186e2a13ff49bf80f865459015ffe2",
      "32fa5bb67ff44e94961737c342c9f385"
     ]
    },
    "id": "8b61bf6c",
    "outputId": "09c9fdec-dec5-41bb-e62b-ca1867d8253a"
   },
   "outputs": [],
   "source": [
    "# SAM segmentation, using the point prompts from the Unet:\n",
    "all_grains, labels, mask_all, grain_data, fig, ax = seg.sam_segmentation(\n",
    "    sam,\n",
    "    image,\n",
    "    image_pred,\n",
    "    coords,\n",
    "    labels,\n",
    "    min_area=400.0,\n",
    "    plot_image=True,\n",
    "    remove_edge_grains=False,\n",
    "    remove_large_objects=False,\n",
    ")"
   ]
  },
  {
   "cell_type": "markdown",
   "id": "19",
   "metadata": {
    "id": "af48c8c6"
   },
   "source": [
    "## Delete or merge grains in segmentation result\n",
    "* click on the grain that you want to remove and press the 'x' key\n",
    "* click on two grains that you want to merge and press the 'm' key (they have to be the last two grains you clicked on)"
   ]
  },
  {
   "cell_type": "code",
   "execution_count": null,
   "id": "20",
   "metadata": {
    "id": "e1761761"
   },
   "outputs": [],
   "source": [
    "grain_inds = []\n",
    "cid1 = fig.canvas.mpl_connect(\n",
    "    \"button_press_event\",\n",
    "    lambda event: seg.onclick2(event, all_grains, grain_inds, ax=ax),\n",
    ")\n",
    "cid2 = fig.canvas.mpl_connect(\n",
    "    \"key_press_event\",\n",
    "    lambda event: seg.onpress2(event, all_grains, grain_inds, fig=fig, ax=ax),\n",
    ")"
   ]
  },
  {
   "cell_type": "markdown",
   "id": "21",
   "metadata": {
    "id": "b023f1d7"
   },
   "source": [
    "Run this cell if you do not want to delete / merge existing grains anymore; it is a good idea to do this before moving on to the next step."
   ]
  },
  {
   "cell_type": "code",
   "execution_count": null,
   "id": "22",
   "metadata": {
    "id": "8b6987ae"
   },
   "outputs": [],
   "source": [
    "fig.canvas.mpl_disconnect(cid1)\n",
    "fig.canvas.mpl_disconnect(cid2)"
   ]
  },
  {
   "cell_type": "code",
   "execution_count": null,
   "id": "23",
   "metadata": {
    "colab": {
     "base_uri": "https://localhost:8080/"
    },
    "id": "4zwEeG_7ieni",
    "outputId": "91323f52-18ad-4394-a964-284f1cf76219"
   },
   "outputs": [],
   "source": [
    "# Use this function to update the 'labels' array after deleting and merging grains\n",
    "# (the 'all_grains' list is updated when doing the deletion and merging):\n",
    "all_grains, labels, mask_all = seg.get_grains_from_patches(ax, image)"
   ]
  },
  {
   "cell_type": "code",
   "execution_count": null,
   "id": "24",
   "metadata": {
    "colab": {
     "base_uri": "https://localhost:8080/",
     "height": 707,
     "referenced_widgets": [
      "a56edc86bb794ab2a5323312df5c2c1c",
      "48cdaa2cc81d4d41be1aa0af3ac40c37",
      "3fd57a584d9744558389cb4c317f9e2c",
      "3480a36dbe3f4cf1b3b91d8854064b33"
     ]
    },
    "id": "jzWTdRO_ilRo",
    "outputId": "34862202-5820-49df-be4c-6aebe2ce69fa"
   },
   "outputs": [],
   "source": [
    "# plot the updated set of grains\n",
    "fig, ax = plt.subplots(figsize=(8, 6))\n",
    "plt.xticks([])\n",
    "plt.yticks([])\n",
    "seg.plot_image_w_colorful_grains(image, all_grains, ax, cmap=\"Paired\", plot_image=True)\n",
    "seg.plot_grain_axes_and_centroids(all_grains, labels, ax, linewidth=1, markersize=10)\n",
    "plt.xlim([0, np.shape(image)[1]])\n",
    "plt.ylim([np.shape(image)[0], 0]);"
   ]
  },
  {
   "cell_type": "markdown",
   "id": "25",
   "metadata": {
    "id": "092dc965"
   },
   "source": [
    "## Add new grains using the Segment Anything Model\n",
    "\n",
    "* click on unsegmented grain that you want to add\n",
    "* press the 'x' key if you want to delete the last grain you added\n",
    "* press the 'm' key if you want to merge the last two grains that you added\n",
    "* right click outside the grain (but inside the most recent mask) if you want to restrict the grain to a smaller mask - this adds a background prompt"
   ]
  },
  {
   "cell_type": "code",
   "execution_count": null,
   "id": "26",
   "metadata": {
    "id": "04b1a138"
   },
   "outputs": [],
   "source": [
    "predictor = SamPredictor(sam)\n",
    "predictor.set_image(image)  # this can take a while\n",
    "coords = []\n",
    "cid3 = fig.canvas.mpl_connect(\n",
    "    \"button_press_event\", lambda event: seg.onclick(event, ax, coords, image, predictor)\n",
    ")\n",
    "cid4 = fig.canvas.mpl_connect(\n",
    "    \"key_press_event\", lambda event: seg.onpress(event, ax, fig)\n",
    ")"
   ]
  },
  {
   "cell_type": "code",
   "execution_count": null,
   "id": "27",
   "metadata": {
    "id": "b01KsnUui_gQ"
   },
   "outputs": [],
   "source": [
    "fig.canvas.mpl_disconnect(cid3)\n",
    "fig.canvas.mpl_disconnect(cid4)"
   ]
  },
  {
   "cell_type": "markdown",
   "id": "28",
   "metadata": {
    "id": "1c024d1d"
   },
   "source": [
    "After you are done with the deletion / addition of grain masks, run this cell to generate an updated set of grains:"
   ]
  },
  {
   "cell_type": "code",
   "execution_count": null,
   "id": "29",
   "metadata": {
    "colab": {
     "base_uri": "https://localhost:8080/"
    },
    "id": "4355b526",
    "outputId": "c2575774-5ea2-4ef2-cf54-6ec76a2c3ec0"
   },
   "outputs": [],
   "source": [
    "all_grains, labels, mask_all = seg.get_grains_from_patches(ax, image)"
   ]
  },
  {
   "cell_type": "markdown",
   "id": "30",
   "metadata": {
    "id": "klrwZXPkkoNL"
   },
   "source": [
    "## Get grain size distribution"
   ]
  },
  {
   "cell_type": "markdown",
   "id": "31",
   "metadata": {
    "id": "Crf8Qlarksac"
   },
   "source": [
    "Run this cell and then click (left mouse button) on one end of the scale bar in the image and click (right mouse button) on the other end of the scale bar:"
   ]
  },
  {
   "cell_type": "code",
   "execution_count": null,
   "id": "32",
   "metadata": {
    "id": "-Nbfprf5kDKS"
   },
   "outputs": [],
   "source": [
    "cid5 = fig.canvas.mpl_connect(\n",
    "    \"button_press_event\", lambda event: seg.click_for_scale(event, ax)\n",
    ")"
   ]
  },
  {
   "cell_type": "markdown",
   "id": "33",
   "metadata": {
    "id": "IA6LauY-kv4w"
   },
   "source": [
    "Use the length of the scale bar in pixels (it should be printed below the image) to get the scale of the image (in units / pixel):"
   ]
  },
  {
   "cell_type": "code",
   "execution_count": null,
   "id": "34",
   "metadata": {
    "id": "2m8946XXkJYK"
   },
   "outputs": [],
   "source": [
    "n_of_units = 10.0  # centimeters if using 'barton_creek_image.jpg'\n",
    "units_per_pixel = n_of_units / 374.26  # length of scale bar in pixels"
   ]
  },
  {
   "cell_type": "code",
   "execution_count": null,
   "id": "35",
   "metadata": {
    "colab": {
     "base_uri": "https://localhost:8080/",
     "height": 244
    },
    "id": "htqE6SvhkOz6",
    "outputId": "90c30f6f-5acd-47f8-cf0e-f5df73892472"
   },
   "outputs": [],
   "source": [
    "from skimage.measure import regionprops, regionprops_table\n",
    "\n",
    "props = regionprops_table(\n",
    "    labels.astype(\"int\"),\n",
    "    intensity_image=image,\n",
    "    properties=(\n",
    "        \"label\",\n",
    "        \"area\",\n",
    "        \"centroid\",\n",
    "        \"major_axis_length\",\n",
    "        \"minor_axis_length\",\n",
    "        \"orientation\",\n",
    "        \"perimeter\",\n",
    "        \"max_intensity\",\n",
    "        \"mean_intensity\",\n",
    "        \"min_intensity\",\n",
    "    ),\n",
    ")\n",
    "grain_data = pd.DataFrame(props)\n",
    "grain_data[\"major_axis_length\"] = (\n",
    "    grain_data[\"major_axis_length\"].values * units_per_pixel\n",
    ")\n",
    "grain_data[\"minor_axis_length\"] = (\n",
    "    grain_data[\"minor_axis_length\"].values * units_per_pixel\n",
    ")\n",
    "grain_data[\"perimeter\"] = grain_data[\"perimeter\"].values * units_per_pixel\n",
    "grain_data[\"area\"] = grain_data[\"area\"].values * units_per_pixel**2\n",
    "grain_data.head()"
   ]
  },
  {
   "cell_type": "code",
   "execution_count": null,
   "id": "36",
   "metadata": {
    "id": "8My_ARsqkcO1"
   },
   "outputs": [],
   "source": [
    "grain_data.to_csv(fname[:-4] + \".csv\")  # save grain data to CSV file"
   ]
  },
  {
   "cell_type": "code",
   "execution_count": null,
   "id": "37",
   "metadata": {
    "colab": {
     "base_uri": "https://localhost:8080/",
     "height": 689,
     "referenced_widgets": [
      "1b3a1b17b0374cc2ad62da5d5424ddca",
      "5284b43a56bc4d16a632be0dde915c1e",
      "310ccfcfe0f047b088176407e0db61d5",
      "dedb2bb9569d44d8a9341aad4dbea74a"
     ]
    },
    "id": "8nQXQorkkeUb",
    "outputId": "a170cb51-d1c0-4683-ffb5-140cd373af43"
   },
   "outputs": [],
   "source": [
    "# plot histogram of grain axis lengths\n",
    "# note that input data needs to be in milimeters!\n",
    "# these limits are for 'barton_creek_image.jpg'\n",
    "fig, ax = seg.plot_histogram_of_axis_lengths(\n",
    "    grain_data[\"major_axis_length\"] * 10,\n",
    "    grain_data[\"minor_axis_length\"] * 10,\n",
    "    binsize=0.4,\n",
    "    xlimits=[2, 128],\n",
    ")"
   ]
  },
  {
   "cell_type": "markdown",
   "id": "38",
   "metadata": {
    "id": "d327b388"
   },
   "source": [
    "## Save mask and grain labels to PNG files"
   ]
  },
  {
   "cell_type": "code",
   "execution_count": null,
   "id": "39",
   "metadata": {
    "colab": {
     "base_uri": "https://localhost:8080/"
    },
    "id": "c4962ba6",
    "outputId": "decf3004-14be-46b7-edfa-dbd6ebfe3e39"
   },
   "outputs": [],
   "source": [
    "# write grayscale mask to PNG file\n",
    "cv2.imwrite(fname.split(\"/\")[-1][:-4] + \"_mask.png\", mask_all)\n",
    "# Define a colormap using matplotlib\n",
    "num_classes = len(all_grains)\n",
    "cmap = plt.get_cmap(\"viridis\", num_classes)\n",
    "# Map each class label to a unique color using the colormap\n",
    "vis_mask = cmap(labels.astype(np.uint16))[:, :, :3] * 255\n",
    "vis_mask = vis_mask.astype(np.uint8)\n",
    "# Save the mask as a PNG file\n",
    "cv2.imwrite(fname.split(\"/\")[-1][:-4] + \"_labels.png\", vis_mask)\n",
    "# Save the image as a PNG file\n",
    "cv2.imwrite(\n",
    "    fname.split(\"/\")[-1][:-4] + \"_image.png\", cv2.cvtColor(image, cv2.COLOR_BGR2RGB)\n",
    ")"
   ]
  },
  {
   "cell_type": "markdown",
   "id": "40",
   "metadata": {
    "id": "iaT6xbO6k6I0"
   },
   "source": [
    "## Run segmentation on large image\n",
    "\n",
    "This function works with images that are larger than a few megapixels and have thousands of grains.\n",
    "The 'predict_large_image' function breaks the input image into smaller patches and it runs the segmentation process on each patch.\n",
    "\n",
    "The image used below (from [Mair et al., 2022, Earth Surface Dynamics](https://esurf.copernicus.org/articles/10/953/2022/)) is available [here](https://github.com/zsylvester/segmenteverygrain/blob/main/mair_et_al_L2_DJI_0382_image.jpg)."
   ]
  },
  {
   "cell_type": "code",
   "execution_count": null,
   "id": "41",
   "metadata": {
    "colab": {
     "base_uri": "https://localhost:8080/"
    },
    "id": "7dJL6HKJjsuG",
    "outputId": "eccfbef6-c8ba-4068-c908-7e2ac8df6acd"
   },
   "outputs": [],
   "source": [
    "# get large example image\n",
    "!wget \"https://raw.githubusercontent.com/zsylvester/segmenteverygrain/main/examples/mair_et_al_L2_DJI_0382/mair_et_al_L2_DJI_0382_image.jpg\""
   ]
  },
  {
   "cell_type": "code",
   "execution_count": null,
   "id": "42",
   "metadata": {
    "colab": {
     "base_uri": "https://localhost:8080/"
    },
    "id": "bOEDm8i1k7wZ",
    "outputId": "01abc5af-e77f-412a-f493-cfe01e647fbe"
   },
   "outputs": [],
   "source": [
    "from PIL import Image\n",
    "\n",
    "Image.MAX_IMAGE_PIXELS = None  # needed if working with very large images\n",
    "fname = \"mair_et_al_L2_DJI_0382_image.jpg\"\n",
    "all_grains, image_pred, all_coords = seg.predict_large_image(\n",
    "    fname, unet, sam, min_area=400.0, patch_size=2000, overlap=200\n",
    ")"
   ]
  },
  {
   "cell_type": "code",
   "execution_count": null,
   "id": "43",
   "metadata": {
    "colab": {
     "base_uri": "https://localhost:8080/",
     "height": 907,
     "referenced_widgets": [
      "ba4e484a636a415cbec83458f0c5e5eb",
      "a841b0c80d184823aea2a8642af3af6a",
      "754a9f937c4e43129412d1a47cb6dd2e",
      "79897968ff234c67a8b79dbc7e8d298f"
     ]
    },
    "id": "vGaz_Hr-j7kV",
    "outputId": "3cda3e6a-5590-42ac-a9f8-3cebe791f875"
   },
   "outputs": [],
   "source": [
    "# plot results\n",
    "image = np.array(load_img(fname))\n",
    "fig, ax = plt.subplots(figsize=(10, 8))\n",
    "plt.xticks([])\n",
    "plt.yticks([])\n",
    "seg.plot_image_w_colorful_grains(image, all_grains, ax, cmap=\"Paired\")"
   ]
  },
  {
   "cell_type": "code",
   "execution_count": null,
   "id": "44",
   "metadata": {
    "id": "ZTcjJQuZtLuR"
   },
   "outputs": [],
   "source": []
  }
 ],
 "metadata": {
  "accelerator": "GPU",
  "colab": {
   "gpuType": "A100",
   "machine_shape": "hm",
   "provenance": []
  },
  "gpuClass": "standard",
  "kernelspec": {
   "display_name": "Python 3 (ipykernel)",
   "language": "python",
   "name": "python3"
  },
  "language_info": {
   "codemirror_mode": {
    "name": "ipython",
    "version": 3
   },
   "file_extension": ".py",
   "mimetype": "text/x-python",
   "name": "python",
   "nbconvert_exporter": "python",
   "pygments_lexer": "ipython3",
   "version": "3.9.22"
  }
 },
 "nbformat": 4,
 "nbformat_minor": 5
}
